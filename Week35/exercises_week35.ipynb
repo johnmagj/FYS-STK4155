{
 "cells": [
  {
   "cell_type": "markdown",
   "id": "b4005770",
   "metadata": {},
   "source": [
    "# Exercises week 35\n",
    "\n",
    "## Deriving and Implementing Ordinary Least Squares"
   ]
  },
  {
   "cell_type": "markdown",
   "id": "2ca1b589",
   "metadata": {},
   "source": [
    "This week you will be deriving the analytical expressions for linear regression, building up the model from scratch. This will include taking several derivatives of products of vectors and matrices. Such derivatives are central to the optimization of many machine learning models. Although we will often use automatic differentiation in actual calculations, to be able to have analytical expressions is extremely helpful in case we have simpler derivatives as well as when we analyze various properties (like second derivatives) of the chosen cost functions.\n",
    "\n",
    "Vectors are always written as boldfaced lower case letters and matrices as upper case boldfaced letters. You will find useful the notes from week 35 on derivatives of vectors and matrices. See also the textbook of Faisal at al, chapter 5 and in particular sections 5.3-5.5 at <https://github.com/CompPhysics/MachineLearning/blob/master/doc/Textbooks/MathMLbook.pdf>"
   ]
  },
  {
   "cell_type": "markdown",
   "id": "41e92bf9",
   "metadata": {},
   "source": [
    "### Learning goals\n",
    "\n",
    "After completing these exercises, you will know how to\n",
    "- Take the derivatives of simple products between vectors and matrices\n",
    "- Implement OLS using the analytical expressions\n",
    "- Create a feature matrix from a set of data\n",
    "- Create a feature matrix for a polynomial model\n",
    "- Evaluate the MSE score of various model on training and test data, and comparing their performance\n",
    "\n",
    "### Deliverables\n",
    "\n",
    "Complete the following exercises while working in a jupyter notebook. Then, in canvas, include\n",
    "- The jupyter notebook with the exercises completed\n",
    "- An exported PDF of the notebook (https://code.visualstudio.com/docs/datascience/jupyter-notebooks#_export-your-jupyter-notebook)"
   ]
  },
  {
   "cell_type": "markdown",
   "id": "f7a9209d",
   "metadata": {},
   "source": [
    "## How to take derivatives of Matrix-Vector expressions"
   ]
  },
  {
   "cell_type": "markdown",
   "id": "45f3712e",
   "metadata": {},
   "source": [
    "In these exercises it is always useful to write out with summation indices the various quantities. Take also a look at the weekly slides from week 35 and the various examples included there.\n",
    "\n",
    "As an example, consider the function\n",
    "\n",
    "$$\n",
    "f(\\boldsymbol{x}) =\\boldsymbol{A}\\boldsymbol{x},\n",
    "$$\n",
    "\n",
    "which reads for a specific component $f_i$ (we define the matrix $\\boldsymbol{A}$ to have dimension $n\\times n$ and the vector $\\boldsymbol{x}$ to have length $n$)\n",
    "\n",
    "$$\n",
    "f_i =\\sum_{j=0}^{n-1}a_{ij}x_j,\n",
    "$$\n",
    "\n",
    "which leads to\n",
    "\n",
    "$$\n",
    "\\frac{\\partial f_i}{\\partial x_j}= a_{ij},\n",
    "$$\n",
    "\n",
    "and written out in terms of the vector $\\boldsymbol{x}$ we have\n",
    "\n",
    "$$\n",
    "\\frac{\\partial f(\\boldsymbol{x})}{\\partial \\boldsymbol{x}}= \\boldsymbol{A}.\n",
    "$$"
   ]
  },
  {
   "cell_type": "markdown",
   "id": "5fa8a4e6",
   "metadata": {},
   "source": [
    "## Exercise 1 - Finding the derivative of Matrix-Vector expressions"
   ]
  },
  {
   "cell_type": "markdown",
   "id": "df7a2270",
   "metadata": {},
   "source": [
    "**a)** Consider the expression\n",
    "\n",
    "$$\n",
    "\\frac{\\partial (\\boldsymbol{a}^T\\boldsymbol{x})}{\\partial \\boldsymbol{x}},\n",
    "$$\n",
    "\n",
    "Where $\\boldsymbol{a}$ and $\\boldsymbol{x}$ are column-vectors with length $n$.\n",
    "\n",
    "What is the *shape* of the expression we are taking the derivative of?\n",
    "\n",
    "What is the *shape* of the thing we are taking the derivative with respect to?\n",
    "\n",
    "What is the *shape* of the result of the expression?"
   ]
  },
  {
   "cell_type": "markdown",
   "id": "94822c49",
   "metadata": {},
   "source": [
    "<u>**Answer:**</u> Since $\\boldsymbol{a}$ and $\\boldsymbol{x}$ are column-vectors with length $\\boldsymbol{n}$, they both have the shape $(n \\times 1)$, $n$ rows in $1$ column. This means that $\\boldsymbol{a}^T$, the transpose of $\\boldsymbol{a}$, would take on the shape $(n \\times 1)^T \\rightarrow (1 \\times n)$, in other words become a row vector. Therefore the matrix multiplication $\\boldsymbol{a}^T \\boldsymbol{x}$ leads to the shape $(1 \\times n) (n \\times 1) \\rightarrow (1 \\times 1)$. Thus the expression we are taking the derivative of, $\\boldsymbol{a}^T \\boldsymbol{x}$, is a scalar.\n",
    "\n",
    "We are differentiating with respect to $\\boldsymbol{x}$, which has shape ($n \\times 1$).\n",
    "\n",
    "$\\dfrac{\\partial (\\boldsymbol{a}^T\\boldsymbol{x})}{\\partial \\boldsymbol{x}}$ is called the **Jacobian** or the **Jacobian matrix** of the expression $\\boldsymbol{a}^T \\boldsymbol{x}$. The differential operator $\\dfrac{\\partial}{\\partial \\boldsymbol{x}}$ leading to the matrix is explicitly defined to have its elements along the rows in the matrix, even tho $\\boldsymbol{x}$ is a ($n \\times 1$) coulmn vector. This could be confusing since the \"normal\" way of thinking about operators and matrix multiplication, is that the inner dimensions must agree: $(a \\times b)(b \\times c) \\rightarrow (a \\times c)$. So $\\dfrac{\\partial}{\\partial \\boldsymbol{x}}$ being $(1 \\times n)$, would certainly not agree with $\\boldsymbol{a}^T\\boldsymbol{x}$ being $(1 \\times 1)$ if to produce a row vector.\n",
    "\n",
    "Given the above, the **Jacobian matrix** of the expression $\\boldsymbol{a}^T \\boldsymbol{x}$ is a $(1 \\times n)$ matrix, i.e. a row vector. We could also have said that since the elements of $\\boldsymbol{a}^T$ are independent of $\\boldsymbol{x}$, using the product rule: $\\dfrac{\\partial (\\boldsymbol{a}^T\\boldsymbol{x})}{\\partial \\boldsymbol{x}} = \\boldsymbol{a}^T$, which we have shown have the shape $(1 \\times n)$.\n"
   ]
  },
  {
   "cell_type": "markdown",
   "id": "c0396734",
   "metadata": {},
   "source": [
    "**b)** Show that\n",
    "\n",
    "$$\n",
    "\\frac{\\partial (\\boldsymbol{a}^T\\boldsymbol{x})}{\\partial \\boldsymbol{x}} = \\boldsymbol{a}^T,\n",
    "$$"
   ]
  },
  {
   "cell_type": "markdown",
   "id": "a77a9bb4",
   "metadata": {},
   "source": [
    "<u>**Answer**</u>: First: \n",
    "\n",
    "$$\n",
    "\\boldsymbol{a}^T \\boldsymbol{x} = \\left( \\begin{array}{cccc} a_0, & a_1, & \\cdots, & a_{n-1} \\end{array} \\right) \\left( \\begin{array}{c} x_0 \\\\ x_1 \\\\ \\vdots \\\\ x_{n-1} \\end{array} \\right) = \\left( \\begin{array}{cccc} a_0 x_0 + a_1 x_1 + \\cdots + a_{n-1} x_{n-1} \\end{array} \\right)\n",
    "$$\n",
    "\n",
    "The differentiation operator, in the context of producing the Jacobian matrix for $f$ - differentiating with respect to $\\boldsymbol{x}$ shape $(n \\times 1)$:\n",
    "\n",
    "$$\n",
    "\\dfrac{\\partial f}{\\partial \\boldsymbol{x}} = \\left( \\begin{array}{cccc} \\cfrac{\\partial f}{\\partial x_0}, & \\cfrac{\\partial f}{\\partial x_1}, & \\dots, & \\cfrac{\\partial f}{\\partial x_{n-1}} \\end{array} \\right)\n",
    "$$\n",
    "\n",
    "So:\n",
    "\n",
    "\\begin{align*}\n",
    "\\frac{\\partial (\\boldsymbol{a}^T\\boldsymbol{x})}{\\partial \\boldsymbol{x}} &= \\left( \\begin{array}{cccc} \\cfrac{\\partial}{\\partial x_0} \\left( a_0 x_0 + a_1 x_1 + \\cdots + a_{n-1} x_{n-1} \\right), & \\cfrac{\\partial}{\\partial x_1} \\left( a_0 x_0 + a_1 x_1 + \\cdots + a_{n-1} x_{n-1} \\right), & \\dots, & \\cfrac{\\partial}{\\partial x_{n-1}} \\left( a_0 x_0 + a_1 x_1 + \\cdots + a_{n-1} x_{n-1} \\right) \\end{array} \\right) \\\\\n",
    "\n",
    "\\\\\n",
    "\n",
    "&= \\left( \\begin{array}{cccc} a_0, & a_1, & \\dots, & a_{n-1} \\end{array} \\right) \\\\\n",
    "\n",
    "\\\\\n",
    "\n",
    "&= \\boldsymbol{a}^T\n",
    "\\end{align*}\n",
    "\n",
    "\n",
    "Which we were to show.\n"
   ]
  },
  {
   "cell_type": "markdown",
   "id": "dc39d541",
   "metadata": {},
   "source": [
    "**c)** Show that\n",
    "\n",
    "$$\n",
    "\\frac{\\partial (\\boldsymbol{a}^T\\boldsymbol{A}\\boldsymbol{a})}{\\partial \\boldsymbol{a}} = \\boldsymbol{a}^T(\\boldsymbol{A}+\\boldsymbol{A}^T),\n",
    "$$"
   ]
  },
  {
   "cell_type": "markdown",
   "id": "4deb1858",
   "metadata": {},
   "source": [
    "<u>**Answer**</u>: First we take a look at the expression $\\boldsymbol{a}^T\\boldsymbol{A}\\boldsymbol{a}$. Just writing there shape: $(1 \\times n)(n \\times n)(n \\times 1) \\rightarrow (1 \\times 1)$. So again we are dealing with the derivative of a scalar with respect to a vector, this time $\\boldsymbol{a}$. We can write:\n",
    "\n",
    "$$\n",
    "\\boldsymbol{a}^T\\boldsymbol{A}\\boldsymbol{a} = (\\boldsymbol{a}^T\\boldsymbol{A})\\boldsymbol{a}\n",
    "$$\n",
    "\n",
    "\n",
    "The first part: \n",
    "$$\n",
    "\\boldsymbol{a}^T\\boldsymbol{A} = \\left( \\begin{array}{cccc} a_0, & a_1, & \\dots, & a_{n-1} \\end{array} \\right)\n",
    "\n",
    "\\begin{pmatrix}\n",
    "A_{0,0} & A_{0,1} & \\dots & A_{0,n-1} \\\\\n",
    "A_{1,0} & A_{1,1} & & \\\\\n",
    "\\vdots & & \\ddots & \\\\\n",
    "A_{n-1,0} & & & A_{n-1,n-1}\n",
    "\\end{pmatrix}\n",
    "$$\n",
    "\n",
    "$$\n",
    "= \\left( \\begin{array}{cccc} a_0(A_{0,0} + A_{1,0} + \\dots + A_{n-1,0}), & a_1(A_{0, 1} + A_{1,1} + \\dots), & \\dots, a_{n-1}(A_{0,n-1} + \\dots + A_{n-1,n-1})\\end{array} \\right)\n",
    "$$\n",
    "\n",
    "Then:\n",
    "\n",
    "$$\n",
    "(\\boldsymbol{a}^T\\boldsymbol{A})\\boldsymbol{a} = \\left( \\begin{array}{cccc} a_0(A_{0,0} + A_{1,0} + \\dots + A_{n-1,0}), & a_1(A_{0, 1} + A_{1,1} + \\dots), & \\dots, a_{n-1}(A_{0,n-1} + \\dots + A_{n-1,n-1})\\end{array} \\right) \\left( \\begin{array}{c} a_0 \\\\ a_1 \\\\ \\vdots \\\\ a_{n-1} \\end{array} \\right)\n",
    "$$\n",
    "\n",
    "$$\n",
    "\\boldsymbol{a}^T\\boldsymbol{A}\\boldsymbol{a} =\\left( \\begin{array}{cccc} a_0^2(A_{0,0} + A_{1,0} + \\dots + A_{n-1,0}), & a_1^2(A_{0, 1} + A_{1,1} + \\dots), & \\dots, a_{n-1}^2(A_{0,n-1} + \\dots + A_{n-1,n-1})\\end{array} \\right)\n",
    "$$\n",
    "\n",
    "And finally:\n",
    "\n",
    "$$\n",
    "\\frac{\\partial (\\boldsymbol{a}^T\\boldsymbol{A}\\boldsymbol{a})}{\\partial \\boldsymbol{a}} = \\left( \\begin{array}{cccc} \\dfrac{\\partial}{\\partial a_0} \\left( a_0^2(A_{0,0} + A_{1,0} + \\dots + A_{n-1,0}) \\right), & \\dfrac{\\partial}{\\partial a_1} \\left( a_1^2(A_{0, 1} + A_{1,1} + \\dots) \\right), & \\dots, \\dfrac{\\partial}{\\partial a_{n-1}} \\left( a_{n-1}^2(A_{0,n-1} + \\dots + A_{n-1,n-1}) \\right) \\end{array} \\right)\n",
    "$$\n",
    "\n",
    "$$\n",
    "=\\left( \\begin{array}{cccc} 2(A_{0,0} + A_{1,0} + \\dots + A_{n-1,0})a_0, & 2(A_{0, 1} + A_{1,1} + \\dots)a_1, & \\dots, 2(A_{0,n-1} + \\dots + A_{n-1,n-1})a_{n-1} \\end{array} \\right)\n",
    "$$\n",
    "\n",
    "We recognize this expression to be identical to the one above, except for the factor $2$ in front of the columns of matrix $\\boldsymbol{A}$, that means:\n",
    "\n",
    "$$\n",
    "\\frac{\\partial (\\boldsymbol{a}^T\\boldsymbol{A}\\boldsymbol{a})}{\\partial \\boldsymbol{a}} = \\boldsymbol{a}^T 2 \\boldsymbol{A}\n",
    "$$\n",
    "\n",
    "If $\\boldsymbol{A} $ is a symmetric matrices, meaning $\\boldsymbol{A} = \\boldsymbol{A}^T$, than: $2 \\boldsymbol{A} = \\boldsymbol{A} + \\boldsymbol{A} = \\boldsymbol{A} + \\boldsymbol{A}^T$, and we have:\n",
    "\n",
    "$$\n",
    "\\frac{\\partial (\\boldsymbol{a}^T\\boldsymbol{A}\\boldsymbol{a})}{\\partial \\boldsymbol{a}} = \\boldsymbol{a}^T (\\boldsymbol{A} + \\boldsymbol{A}^T)\n",
    "$$\n",
    "\n",
    "Which was to be shown."
   ]
  },
  {
   "cell_type": "markdown",
   "id": "498d13ec",
   "metadata": {},
   "source": [
    "## Exercise 2 - Deriving the expression for OLS"
   ]
  },
  {
   "cell_type": "markdown",
   "id": "f3f771de",
   "metadata": {},
   "source": [
    "The ordinary least squares method finds the parameters $\\boldsymbol{\\theta}$ which minimizes the squared error between our model $\\boldsymbol{X\\theta}$ and the true values $\\boldsymbol{y}$.\n",
    "\n",
    "To find the parameters $\\boldsymbol{\\theta}$ which minimizes this error, we take the derivative of the squared error expression with respect to $\\boldsymbol{\\theta}$, and set it equal to 0."
   ]
  },
  {
   "cell_type": "markdown",
   "id": "49690237",
   "metadata": {},
   "source": [
    "**a)** Very briefly explain why the approach above finds the parameters $\\boldsymbol{\\theta}$ which minimizes this error."
   ]
  },
  {
   "cell_type": "markdown",
   "id": "9dacbbce",
   "metadata": {},
   "source": [
    "<u>**Answer**</u>: By taking the derivate of the expression for the squared error with respect to $\\boldsymbol{\\theta}$ we essentially get a function that tells us for which $\\boldsymbol{\\theta}$ the squared error function is having minimums and maximums. By setting the derivative function to zero, we can solve for $\\boldsymbol{\\theta}$ which will give us the coordinate for these points. We can then find the $\\boldsymbol{\\theta}$ that minimizes the squared error function. However for the least square problem we know from linear algebra that the solution to $\\boldsymbol{X \\theta} = y$ for $\\theta$ in fact is the best least square solution."
   ]
  },
  {
   "cell_type": "markdown",
   "id": "b7cccc9d",
   "metadata": {},
   "source": [
    "We typically write the squared error as\n",
    "\n",
    "$$\n",
    "\\vert\\vert\\boldsymbol{y} - \\boldsymbol{X\\theta}\\vert\\vert^2\n",
    "$$\n",
    "\n",
    "which we can rewrite in matrix-vector form as\n",
    "\n",
    "$$\n",
    "\\left(\\boldsymbol{y}-\\boldsymbol{X}\\boldsymbol{\\theta}\\right)^T\\left(\\boldsymbol{y}-\\boldsymbol{X}\\boldsymbol{\\theta}\\right)\n",
    "$$"
   ]
  },
  {
   "cell_type": "markdown",
   "id": "8fbecf74",
   "metadata": {},
   "source": [
    "**b)** If $\\boldsymbol{X}$ is invertible, what is the expression for the optimal parameters $\\boldsymbol{\\theta}$? (**Hint:** Don't compute any derivatives, but solve $\\boldsymbol{X\\theta}=\\boldsymbol{y}$ for $\\boldsymbol{\\theta}$)"
   ]
  },
  {
   "cell_type": "markdown",
   "id": "dca56e74",
   "metadata": {},
   "source": [
    "<u>**Answer**</u>: Given that $\\boldsymbol{X}$ is invertible, we have: \n",
    "$$\n",
    "\\boldsymbol{X\\theta} = \\boldsymbol{y}\n",
    "$$\n",
    "\n",
    "$$\n",
    "\\boldsymbol{X}^{-1} \\boldsymbol{X} \\boldsymbol{\\theta} = \\boldsymbol{X}^{-1} \\boldsymbol{y}\n",
    "$$\n",
    "\n",
    "$$\n",
    "\\boldsymbol{\\theta} = \\boldsymbol{X}^{-1} \\boldsymbol{y}\n",
    "$$\n",
    "\n",
    "It is also common practice, especially if $\\boldsymbol{X}$ is not square to multiply with the transpose $\\boldsymbol{X}^T$ on both sides of the equation. The product $(\\boldsymbol{X}^T \\boldsymbol{X})$ is always square keeping the inverse - or in case we can't find a true inverse, the pseudo inverse - also square.\n",
    "\n",
    "$$\n",
    "\\boldsymbol{X}^T \\boldsymbol{X} \\theta = \\boldsymbol{X}^T \\boldsymbol{y}\n",
    "$$\n",
    "\n",
    "$$\n",
    "(\\boldsymbol{X}^T \\boldsymbol{X})^{-1} (\\boldsymbol{X}^T \\boldsymbol{X}) \\theta = (\\boldsymbol{X}^T \\boldsymbol{X})^{-1} \\boldsymbol{X}^T \\boldsymbol{y}\n",
    "$$\n",
    "\n",
    "$$\n",
    "\\theta = (\\boldsymbol{X}^T \\boldsymbol{X})^{-1} \\boldsymbol{X}^T \\boldsymbol{y}\n",
    "$$"
   ]
  },
  {
   "cell_type": "markdown",
   "id": "f37af8f0",
   "metadata": {},
   "source": [
    "**c)** Show that\n",
    "\n",
    "$$\n",
    "\\frac{\\partial \\left(\\boldsymbol{x}-\\boldsymbol{A}\\boldsymbol{s}\\right)^T\\left(\\boldsymbol{x}-\\boldsymbol{A}\\boldsymbol{s}\\right)}{\\partial \\boldsymbol{s}} = -2\\left(\\boldsymbol{x}-\\boldsymbol{A}\\boldsymbol{s}\\right)^T\\boldsymbol{A},\n",
    "$$"
   ]
  },
  {
   "cell_type": "markdown",
   "id": "ecf0cfb5",
   "metadata": {},
   "source": [
    "<u>**Answer**</u>: We can rewrite $\\left(\\boldsymbol{x}-\\boldsymbol{A}\\boldsymbol{s}\\right)^T\\left(\\boldsymbol{x}-\\boldsymbol{A}\\boldsymbol{s}\\right)$ as:\n",
    "\n",
    "$$\n",
    "\\left( \\boldsymbol{x}^T - \\boldsymbol{s}^T \\boldsymbol{A}^T \\right) \\left(\\boldsymbol{x}-\\boldsymbol{A}\\boldsymbol{s}\\right) = \\boldsymbol{x}^T\\boldsymbol{x} -\\boldsymbol{s}^T \\boldsymbol{A}^T \\boldsymbol{x} - \\boldsymbol{x}^T \\boldsymbol{As} + \\boldsymbol{s}^T \\boldsymbol{A}^T \\boldsymbol{As}\n",
    "$$\n",
    "\n",
    "From the original expression we know that for $(\\boldsymbol{x} - \\boldsymbol{As})$ to make sense, $\\boldsymbol{A}$ and $\\boldsymbol{s}$ must share inner dimensions. So say $\\boldsymbol{A}$ is an $(m \\times n)$ matrix, then $\\boldsymbol{s}$ must be $(n \\times 1)$. Their transposes are then $(n \\times m)$ and $(1 \\times n)$ respectively. Also, $\\boldsymbol{x}$ have to be the same shape as $\\boldsymbol{As}$ which is $(m \\times n)(n \\times 1)\\rightarrow(m \\times 1)$. We now see that the first term must be a scalar, and therefore the same for the remaining terms. Knowing this we then derivate each term with respect to $\\boldsymbol{s}$, knowing they are scalers we don't need to take the shape of the individual factors into account. After differentiating we have:\n",
    "\n",
    "$$ - \\boldsymbol{A}^T \\boldsymbol{x} - \\boldsymbol{x}^T \\boldsymbol{A} + (\\boldsymbol{s}^T \\boldsymbol{A}^T \\boldsymbol{As})' $$\n",
    "$$ ... $$"
   ]
  },
  {
   "cell_type": "markdown",
   "id": "869fca4d",
   "metadata": {},
   "source": [
    "**d)** Using the expression from **c)**, but substituting back in $\\boldsymbol{\\theta}$, $\\boldsymbol{y}$ and $\\boldsymbol{X}$, find the expression for the optimal parameters $\\boldsymbol{\\theta}$ in the case that $\\boldsymbol{X}$ is not invertible, but $\\boldsymbol{X^T X}$ is, which is most often the case.\n",
    "\n",
    "$$\n",
    "\\boldsymbol{\\hat{\\theta}_{OLS}} = ...\n",
    "$$"
   ]
  },
  {
   "cell_type": "markdown",
   "id": "c272ca2a",
   "metadata": {},
   "source": [
    "<u>**Answer**</u>: After the substitution:\n",
    "$$\n",
    "-2\\left(\\boldsymbol{y}-\\boldsymbol{X}\\boldsymbol{\\theta}\\right)^T\\boldsymbol{X},\n",
    "$$"
   ]
  },
  {
   "cell_type": "markdown",
   "id": "57ca3d74",
   "metadata": {},
   "source": [
    "## Exercise 3 - Creating feature matrix and implementing OLS using the analytical expression"
   ]
  },
  {
   "cell_type": "markdown",
   "id": "5dc179f7",
   "metadata": {},
   "source": [
    "With the expression for $\\boldsymbol{\\hat{\\theta}_{OLS}}$, you now have what you need to implement OLS regression with your input data and target data $\\boldsymbol{y}$. But before you can do that, you need to set up you input data as a feature matrix $\\boldsymbol{X}$.\n",
    "\n",
    "In a feature matrix, each row is a datapoint and each column is a feature of that data. If you want to predict someones spending based on their income and number of children, for instance, you would create a row for each person in your dataset, with the montly income and the number of children as columns.\n",
    "\n",
    "We typically also include an intercept in our models. The intercept is a value that is added to our prediction regardless of the value of the other features. The intercept tries to account for constant effects in our data that are not dependant on anything else. In our current example, the intercept could account for living expenses which are typical regardless of income or childcare expenses.\n",
    "\n",
    "We calculate the optimal intercept by including a feature with the constant value of 1 in our model, which is then multplied by some parameter $\\theta_0$ from the OLS method into the optimal intercept value (which will be $\\theta_0$). In practice, we include the intercept in our model by adding a column of ones to the start of our feature matrix."
   ]
  },
  {
   "cell_type": "code",
   "execution_count": 10,
   "id": "e5ff2a69",
   "metadata": {},
   "outputs": [],
   "source": [
    "import numpy as np"
   ]
  },
  {
   "cell_type": "code",
   "execution_count": 11,
   "id": "a3cf2792",
   "metadata": {},
   "outputs": [],
   "source": [
    "n = 20\n",
    "income = np.array([116., 161., 167., 118., 172., 163., 179., 173., 162., 116., 101., 176., 178., 172., 143., 135., 160., 101., 149., 125.])\n",
    "children = np.array([5, 3, 0, 4, 5, 3, 0, 4, 4, 3, 3, 5, 1, 0, 2, 3, 2, 1, 5, 4])\n",
    "spending = np.array([152., 141., 102., 136., 161., 129.,  99., 159., 160., 107.,  98., 164., 121.,  93., 112., 127., 117.,  69., 156., 131.])\n"
   ]
  },
  {
   "cell_type": "markdown",
   "id": "5da61481",
   "metadata": {},
   "source": [
    "**a)** Create a feature matrix $\\boldsymbol{X}$ for the features income and children, including an intercept column of ones at the start."
   ]
  },
  {
   "cell_type": "code",
   "execution_count": 5,
   "id": "5ad87a65",
   "metadata": {},
   "outputs": [],
   "source": [
    "X = np.zeros((n, 3))\n",
    "X[:, 0] = np.ones(n)    # Intercept column\n",
    "X[:, 1] = income\n",
    "X[:, 2] = children\n",
    "\n",
    "y = spending"
   ]
  },
  {
   "cell_type": "markdown",
   "id": "9b1bb81c",
   "metadata": {},
   "source": [
    "This create a feature matrix with $\\boldsymbol{X}$ with first column having ones, second the income, and third the number of children.  "
   ]
  },
  {
   "cell_type": "markdown",
   "id": "e0ddfac2",
   "metadata": {},
   "source": [
    "**b)** Use the expression from **2d)** to find the optimal parameters $\\boldsymbol{\\hat{\\beta}_{OLS}}$ for predicting spending based on these features. Create a function for this operation, as you are going to need to use it a lot."
   ]
  },
  {
   "cell_type": "code",
   "execution_count": 12,
   "id": "8f3f68aa",
   "metadata": {},
   "outputs": [
    {
     "name": "stdout",
     "output_type": "stream",
     "text": [
      "The beta vector: [ 0.8440904   0.39363693 -0.06445176  0.01885438  0.00216509 -0.00539639]\n"
     ]
    }
   ],
   "source": [
    "def OLS_parameters(X, y):\n",
    "    \"\"\"\n",
    "    Take an invertible feature matrix X, and a column vector y\n",
    "\n",
    "    Return the parameters of OLS fit.\n",
    "    \"\"\"\n",
    "    X_inv = np.linalg.pinv(X) # The inverse of matrix X, using .pinv in case X is not square\n",
    "    beta = X_inv @ y    # The beta vector in: X @ beta = y, solved for beta\n",
    "    return beta\n",
    "\n",
    "beta = OLS_parameters(X, y)\n",
    "print(\"The beta vector:\", beta)"
   ]
  },
  {
   "cell_type": "markdown",
   "id": "0cb6da80",
   "metadata": {},
   "source": [
    "## Exercise 4 - Fitting a polynomial"
   ]
  },
  {
   "cell_type": "markdown",
   "id": "71015064",
   "metadata": {},
   "source": [
    "In this course, we typically do linear regression using polynomials, though in real world applications it is also very common to make linear models based on measured features like you did in the previous exercise.\n",
    "\n",
    "When fitting a polynomial with linear regression, we make each polynomial degree($x, x^2, x^3, ..., x^p$) its own feature."
   ]
  },
  {
   "cell_type": "code",
   "execution_count": 13,
   "id": "d7476c84",
   "metadata": {},
   "outputs": [],
   "source": [
    "n = 100\n",
    "x = np.linspace(-3, 3, n)\n",
    "y = np.exp(-x**2) + 1.5 * np.exp(-(x-2)**2) + np.random.normal(0, 0.4, size=n)"
   ]
  },
  {
   "cell_type": "markdown",
   "id": "8cfc4012",
   "metadata": {},
   "source": [
    "Needed to add size=n to np.random.normal(), or the noise would be the same for each x value. Also adjusted the standard deviation up a bit to make some more noticeable deviation from the otherwise smooth trend in the data."
   ]
  },
  {
   "cell_type": "markdown",
   "id": "8321451b",
   "metadata": {},
   "source": [
    "**a)** Create a feature matrix $\\boldsymbol{X}$ for the features $x, x^2, x^3, x^4, x^5$, including an intercept column of ones at the start. Make this into a function, as you will do this a lot over the next weeks."
   ]
  },
  {
   "cell_type": "code",
   "execution_count": 14,
   "id": "91496e40",
   "metadata": {},
   "outputs": [],
   "source": [
    "def polynomial_features(x, p):\n",
    "    \"\"\"\n",
    "    Take an array of x values, and the desired polynomial degree p.\n",
    "\n",
    "    Create a feature (design) matrix with ones in the first column, and the subsequently columns containing \n",
    "    x with the elements raised to the power of the corresponding column number, degree x^1 to x^p.\n",
    "    \"\"\"\n",
    "    n = len(x)\n",
    "    X = np.zeros((int(n), int(p + 1)))\n",
    "    X[:, 0] = np.ones(n)        # Create first column with only ones, the intercept\n",
    "    for i in range(1, int(p+1)):\n",
    "        X[:, i] = x**i\n",
    "    \n",
    "    return X\n",
    "\n",
    "X = polynomial_features(x, 5)\n",
    "#print(X)"
   ]
  },
  {
   "cell_type": "markdown",
   "id": "b84b1e31",
   "metadata": {},
   "source": [
    "**b)** Use the expression from **2d)** to find the optimal parameters $\\boldsymbol{\\hat{\\beta}_{OLS}}$ for predicting $\\boldsymbol{y}$ based on these features. If you have done everything right so far, this code will not need changing."
   ]
  },
  {
   "cell_type": "code",
   "execution_count": 15,
   "id": "034f502c",
   "metadata": {},
   "outputs": [
    {
     "name": "stdout",
     "output_type": "stream",
     "text": [
      "[ 0.86942788  0.30526425 -0.01593815  0.07948731 -0.0062373  -0.01248291]\n"
     ]
    }
   ],
   "source": [
    "beta = OLS_parameters(X, y)\n",
    "print(beta)"
   ]
  },
  {
   "cell_type": "markdown",
   "id": "d703f788",
   "metadata": {},
   "source": [
    "**c)** Like in exercise 4 last week, split your feature matrix and target data into a training split and test split."
   ]
  },
  {
   "cell_type": "code",
   "execution_count": 16,
   "id": "29171358",
   "metadata": {},
   "outputs": [
    {
     "name": "stdout",
     "output_type": "stream",
     "text": [
      "Shape of X and y train: (80, 6) (80,)\n",
      "Shape of X and y test: (20, 6) (20,)\n"
     ]
    }
   ],
   "source": [
    "from sklearn.model_selection import train_test_split\n",
    "\n",
    "X_train, X_test, y_train, y_test = train_test_split(X, y, test_size=0.2)\n",
    "\n",
    "x1_train = X_train[:,1] # Unaltered x**1-values in the training set\n",
    "x1_test = X_test[:,1]   # Unaltered x**1-values in the test set\n",
    "\n",
    "print(\"Shape of X and y train:\", np.shape(X_train), np.shape(y_train))\n",
    "print(\"Shape of X and y test:\", np.shape(X_test), np.shape(y_test))\n"
   ]
  },
  {
   "cell_type": "markdown",
   "id": "a0e3509f",
   "metadata": {},
   "source": [
    "**d)** Train your model on the training data(find the parameters which best fit) and compute the MSE on both the training and test data."
   ]
  },
  {
   "cell_type": "code",
   "execution_count": 17,
   "id": "1e346f4c",
   "metadata": {},
   "outputs": [
    {
     "data": {
      "image/png": "[encoded data removed]",
      "text/plain": [
       "<Figure size 640x480 with 1 Axes>"
      ]
     },
     "metadata": {},
     "output_type": "display_data"
    },
    {
     "data": {
      "image/png": "[encoded data removed]",
      "text/plain": [
       "<Figure size 640x480 with 1 Axes>"
      ]
     },
     "metadata": {},
     "output_type": "display_data"
    },
    {
     "name": "stdout",
     "output_type": "stream",
     "text": [
      "MSE for the predicted function against the train data: 0.18888579864118657\n",
      "MSE for the predicted function against test data: 0.10781687980641619\n"
     ]
    }
   ],
   "source": [
    "import matplotlib.pyplot as plt\n",
    "from sklearn.metrics import mean_squared_error\n",
    "\n",
    "beta_train = OLS_parameters(X_train, y_train)\n",
    "\n",
    "def model_func(x, beta):\n",
    "    \"\"\"\n",
    "    Creating a model-function by using the beta values as parameters in a polynomial of degree len(beta).\n",
    "    Automatically finding the degree of the polynomial from len(beta).\n",
    "    f = beta_0 + beta_1*x + beta_2*x**2 + ... + beta_n*x**n\n",
    "    \"\"\"\n",
    "    n = len(beta)\n",
    "    beta = beta.reshape((n, 1)) # Explicitly shaping beta array to a column vector, (1 x len(beta))\n",
    "    X = np.zeros((len(x), n))\n",
    "    for i in range(n):          # First column is filled with ones, cause x**0 = 1\n",
    "        X[:,i] = x**i\n",
    "    y = X @ beta\n",
    "    return y\n",
    "\n",
    "predict_train_y = model_func(x1_train, beta_train)  # The model predicting the data it was trained on\n",
    "predict_test_y = model_func(x1_test, beta_train)    # The model predicting unseen test data \n",
    "\n",
    "plt.scatter(x1_train, y_train, label = \"Training data\")\n",
    "plt.scatter(x1_train, predict_train_y, label = \"Poly model prediction for training data\")\n",
    "plt.legend()\n",
    "plt.show()\n",
    "plt.close()\n",
    "\n",
    "plt.scatter(x1_test, y_test, label = \"Test data\")\n",
    "plt.scatter(x1_test, predict_test_y, label = \"Poly model prediction for test data\")\n",
    "plt.legend()\n",
    "plt.show()\n",
    "plt.close()\n",
    "\n",
    "predict_train_mse = mean_squared_error(y_train, predict_train_y)\n",
    "print(\"MSE for the predicted function against the train data:\", predict_train_mse)\n",
    "predict_test_mse = mean_squared_error(y_test, predict_test_y)\n",
    "print(\"MSE for the predicted function against test data:\", predict_test_mse)"
   ]
  },
  {
   "cell_type": "markdown",
   "id": "0fc5c49d",
   "metadata": {},
   "source": [
    "We see that the MSE for the prediction on the test data is of the same order of magnitude as for the prediction made on the training data."
   ]
  },
  {
   "cell_type": "markdown",
   "id": "7e431889",
   "metadata": {},
   "source": [
    "**e)** Do the same for each polynomial degree from 2 to 10, and plot the MSE on both the training and test data as a function of polynomial degree. The aim is to reproduce Figure 2.11 of [Hastie et al](https://github.com/CompPhysics/MLErasmus/blob/master/doc/Textbooks/elementsstat.pdf). Feel free to read the discussions leading to figure 2.11 of Hastie et al. "
   ]
  },
  {
   "cell_type": "code",
   "execution_count": 29,
   "id": "ceb57457",
   "metadata": {},
   "outputs": [
    {
     "name": "stdout",
     "output_type": "stream",
     "text": [
      "MSE for the predicted function against the train data: 0.7225068313587312\n",
      "MSE for the predicted function against test data: 0.10781687980641619\n",
      "MSE for the predicted function against the train data: 0.6873116256138443\n",
      "MSE for the predicted function against test data: 0.10781687980641619\n",
      "MSE for the predicted function against the train data: 0.4207597060728271\n",
      "MSE for the predicted function against test data: 0.10781687980641619\n",
      "MSE for the predicted function against the train data: 0.56940684459126\n",
      "MSE for the predicted function against test data: 0.10781687980641619\n",
      "MSE for the predicted function against the train data: 0.43786962500579546\n",
      "MSE for the predicted function against test data: 0.10781687980641619\n",
      "MSE for the predicted function against the train data: 0.7989992035983833\n",
      "MSE for the predicted function against test data: 0.10781687980641619\n",
      "MSE for the predicted function against the train data: 0.8666333840793163\n",
      "MSE for the predicted function against test data: 0.10781687980641619\n",
      "MSE for the predicted function against the train data: 0.7049565226842163\n",
      "MSE for the predicted function against test data: 0.10781687980641619\n",
      "MSE for the predicted function against the train data: 0.9992306391201312\n",
      "MSE for the predicted function against test data: 0.10781687980641619\n"
     ]
    },
    {
     "data": {
      "image/png": "[encoded data removed]",
      "text/plain": [
       "<Figure size 640x480 with 1 Axes>"
      ]
     },
     "metadata": {},
     "output_type": "display_data"
    },
    {
     "data": {
      "image/png": "[encoded data removed]",
      "text/plain": [
       "<Figure size 640x480 with 1 Axes>"
      ]
     },
     "metadata": {},
     "output_type": "display_data"
    }
   ],
   "source": [
    "poly_min = 2\n",
    "poly_max = 10\n",
    "poly_degrees = np.arange(poly_min, poly_max + 1)\n",
    "\n",
    "MSE_predict_train = np.zeros(len(poly_degrees))\n",
    "MSE_predict_test = np.zeros(len(poly_degrees))\n",
    "\n",
    "j = 0   #Counter\n",
    "\n",
    "for i in poly_degrees:\n",
    "    X = polynomial_features(x, i)\n",
    "    X_train, X_test, y_train, y_test = train_test_split(X, y, test_size=0.2)\n",
    "    x1_train = X_train[:,1]\n",
    "    x1_test = X_test[:,1]\n",
    "    beta = OLS_parameters(X_train, y_train)\n",
    "    predict_y_train = model_func(x1_train, beta)\n",
    "    predict_y_test = model_func(x1_test, beta)\n",
    "\n",
    "    MSE_predict_train[j] = mean_squared_error(y_train, predict_y_train)\n",
    "    MSE_predict_test[j] = mean_squared_error(y_test, predict_y_test)\n",
    "\n",
    "    j += 1\n",
    "\n",
    "    predict_train_mse = mean_squared_error(y_train, predict_train_y)\n",
    "    predict_train_mse = mean_squared_error(y_test, predict_test_y)\n",
    "    print(\"MSE for the predicted function against the train data:\", predict_train_mse)\n",
    "    print(\"MSE for the predicted function against test data:\", predict_test_mse)\n",
    "\n",
    "plt.scatter(x,y, label = \"Data\")\n",
    "plt.xlabel(\"x\")\n",
    "plt.ylabel(\"y\")\n",
    "plt.legend()\n",
    "plt.show()\n",
    "plt.close()\n",
    "\n",
    "plt.plot(poly_degrees, MSE_predict_train, \".-\",label = \"Model prediction and training data\")\n",
    "plt.plot(poly_degrees, MSE_predict_test, \".-\", label = \"Model prediction and unseen test data\")\n",
    "plt.grid()\n",
    "plt.xlabel(\"x\")\n",
    "plt.ylabel(\"MSE\")\n",
    "plt.legend()\n",
    "plt.show()\n",
    "plt.close()\n",
    "\n"
   ]
  },
  {
   "cell_type": "markdown",
   "id": "5e5b5954",
   "metadata": {},
   "source": [
    "**f)** Interpret the graph. Why do the lines move as they do? What does it tell us about model performance and generalizability?"
   ]
  },
  {
   "cell_type": "markdown",
   "id": "ad2acfb9",
   "metadata": {},
   "source": [
    "<u>**Answer**</u>: First of all, the graphs varies a lot, and one run can give a complete different impression of how the model behaves compared to the next. Sometimes the MSE for the prediction and test data show a favorable relationship for larger polynomials, other times it gives something more in line with the book figure. With a small dataset of 100 points, how the data is split into training and test data can have an impact on model performance. Generally the prediction fits the training data better for each degree up in polynomial, and the prediction on the test data varies."
   ]
  },
  {
   "cell_type": "markdown",
   "id": "5994f0c5",
   "metadata": {},
   "source": [
    "## Exercise 5 - Comparing your code with sklearn"
   ]
  },
  {
   "cell_type": "markdown",
   "id": "8f595b7a",
   "metadata": {},
   "source": [
    "When implementing different algorithms for the first time, it can be helpful to double check your results with established implementations before you go on to add more complexity."
   ]
  },
  {
   "cell_type": "markdown",
   "id": "8ab310c1",
   "metadata": {},
   "source": [
    "**a)** Make sure your `polynomial_features` function creates the same feature matrix as sklearns PolynomialFeatures.\n",
    "\n",
    "(https://scikit-learn.org/stable/modules/generated/sklearn.preprocessing.PolynomialFeatures.html)"
   ]
  },
  {
   "cell_type": "code",
   "execution_count": 47,
   "id": "85b964d1",
   "metadata": {},
   "outputs": [
    {
     "name": "stdout",
     "output_type": "stream",
     "text": [
      "Own function for X, some random coordinate: 5.730945821854913\n",
      "Sklearn function for X, same coordinate: 5.730945821854913\n",
      "Absolute value of diffrence, for poly degree = 2: 0.0\n",
      "##################\n",
      "Own function for X, some random coordinate: -13.719536967470853\n",
      "Sklearn function for X, same coordinate: -13.719536967470853\n",
      "Absolute value of diffrence, for poly degree = 3: 0.0\n",
      "##################\n",
      "Own function for X, some random coordinate: 32.84374001303629\n",
      "Sklearn function for X, same coordinate: 32.84374001303629\n",
      "Absolute value of diffrence, for poly degree = 4: 0.0\n",
      "##################\n",
      "Own function for X, some random coordinate: -78.62592306151112\n",
      "Sklearn function for X, same coordinate: -78.62592306151112\n",
      "Absolute value of diffrence, for poly degree = 5: 0.0\n",
      "##################\n",
      "Own function for X, some random coordinate: 188.22569460179935\n",
      "Sklearn function for X, same coordinate: 188.22569460179935\n",
      "Absolute value of diffrence, for poly degree = 6: 0.0\n",
      "##################\n",
      "Own function for X, some random coordinate: -450.600905258853\n",
      "Sklearn function for X, same coordinate: -450.600905258853\n",
      "Absolute value of diffrence, for poly degree = 7: 0.0\n",
      "##################\n",
      "Own function for X, some random coordinate: 1078.711258043921\n",
      "Sklearn function for X, same coordinate: 1078.711258043921\n",
      "Absolute value of diffrence, for poly degree = 8: 0.0\n",
      "##################\n",
      "Own function for X, some random coordinate: -2582.369375317265\n",
      "Sklearn function for X, same coordinate: -2582.369375317265\n",
      "Absolute value of diffrence, for poly degree = 9: 0.0\n",
      "##################\n",
      "Own function for X, some random coordinate: 6182.035777274665\n",
      "Sklearn function for X, same coordinate: 6182.035777274666\n",
      "Absolute value of diffrence, for poly degree = 10: 9.094947017729282e-13\n",
      "##################\n"
     ]
    }
   ],
   "source": [
    "from sklearn.preprocessing import PolynomialFeatures # use the fit_transform method of the created object!\n",
    "from sklearn.linear_model import LinearRegression\n",
    "\n",
    "for i in poly_degrees:\n",
    "    my_X = polynomial_features(x, i)\n",
    "\n",
    "    skl_X = PolynomialFeatures(i)                       # Telling poly_features it is a feature matrix of 2. degree\n",
    "    skl_X_poly = skl_X.fit_transform(x.reshape(-1, 1))  # fit.transform expect explicit array\n",
    "    \n",
    "    px = 10 # Some random coordinate\n",
    "    py = -1\n",
    "\n",
    "    print(\"Own function for X, some random coordinate:\", my_X[px, py])\n",
    "    print(\"Sklearn function for X, same coordinate:\", skl_X_poly[px, py])       # Checking if the two functions create similar values at row 11, last column of iteration\n",
    "    print(f\"Absolute value of diffrence, for poly degree = {i}:\", np.abs((my_X[px, py]) - skl_X_poly[px, py]))\n",
    "    print(\"##################\")"
   ]
  },
  {
   "cell_type": "markdown",
   "id": "b3724267",
   "metadata": {},
   "source": [
    "<u>**Answer**</u>: We see that the to functions agree."
   ]
  },
  {
   "cell_type": "markdown",
   "id": "73c32c52",
   "metadata": {},
   "source": [
    "**b)** Make sure your `OLS_parameters` function computes the same parameters as sklearns LinearRegression with fit_intercept set to False, since the intercept is included in the feature matrix. Use `your_model_object.coef_` to extract the computed parameters.\n",
    "\n",
    "(https://scikit-learn.org/stable/modules/generated/sklearn.linear_model.LinearRegression.html)"
   ]
  },
  {
   "cell_type": "code",
   "execution_count": 49,
   "id": "35b04126",
   "metadata": {},
   "outputs": [
    {
     "name": "stdout",
     "output_type": "stream",
     "text": [
      "My beta poly degree = 2: [ 0.91446388  0.29226848 -0.06501017]\n",
      "Sklearn beta poly degree = 2: [ 0.91446388  0.29226848 -0.06501017]\n",
      "Absolute value of difference bwtween my beta and Sklearn beta, at poly degree = 2: [1.11022302e-16 0.00000000e+00 4.16333634e-17]\n",
      "######################################################################################################\n",
      "My beta poly degree = 3: [ 0.91446388  0.55549715 -0.06501017 -0.04778715]\n",
      "Sklearn beta poly degree = 3: [ 0.91446388  0.55549715 -0.06501017 -0.04778715]\n",
      "Absolute value of difference bwtween my beta and Sklearn beta, at poly degree = 3: [3.33066907e-16 0.00000000e+00 1.11022302e-16 1.38777878e-17]\n",
      "######################################################################################################\n",
      "My beta poly degree = 4: [ 0.86942788  0.55549715 -0.01593815 -0.04778715 -0.0062373 ]\n",
      "Sklearn beta poly degree = 4: [ 0.86942788  0.55549715 -0.01593815 -0.04778715 -0.0062373 ]\n",
      "Absolute value of difference bwtween my beta and Sklearn beta, at poly degree = 4: [3.33066907e-16 6.66133815e-16 3.12250226e-16 6.71684930e-15\n",
      " 3.46944695e-17]\n",
      "######################################################################################################\n",
      "My beta poly degree = 5: [ 0.86942788  0.30526425 -0.01593815  0.07948731 -0.0062373  -0.01248291]\n",
      "Sklearn beta poly degree = 5: [ 0.86942788  0.30526425 -0.01593815  0.07948731 -0.0062373  -0.01248291]\n",
      "Absolute value of difference bwtween my beta and Sklearn beta, at poly degree = 5: [1.11022302e-16 5.55111512e-16 4.47558657e-16 1.13797860e-15\n",
      " 1.90819582e-17 1.16226473e-16]\n",
      "######################################################################################################\n",
      "My beta poly degree = 6: [ 0.9251384   0.30526425 -0.1435085   0.07948731  0.03548863 -0.01248291\n",
      " -0.00333568]\n",
      "Sklearn beta poly degree = 6: [ 0.9251384   0.30526425 -0.1435085   0.07948731  0.03548863 -0.01248291\n",
      " -0.00333568]\n",
      "Absolute value of difference bwtween my beta and Sklearn beta, at poly degree = 6: [3.33066907e-16 0.00000000e+00 8.88178420e-16 4.16333634e-17\n",
      " 2.84494650e-16 7.11236625e-17 3.29597460e-17]\n",
      "######################################################################################################\n",
      "My beta poly degree = 7: [ 0.9251384  -0.00219623 -0.1435085   0.38134294  0.03548863 -0.08491502\n",
      " -0.00333568  0.00488997]\n",
      "Sklearn beta poly degree = 7: [ 0.9251384  -0.00219623 -0.1435085   0.38134294  0.03548863 -0.08491502\n",
      " -0.00333568  0.00488997]\n",
      "Absolute value of difference bwtween my beta and Sklearn beta, at poly degree = 7: [2.55351296e-15 1.26192459e-14 2.33146835e-15 3.33066907e-15\n",
      " 1.66533454e-16 1.80411242e-16 1.17093835e-17 3.29597460e-17]\n",
      "######################################################################################################\n",
      "My beta poly degree = 8: [ 1.05235735 -0.00219623 -0.64340895  0.38134294  0.33555486 -0.08491502\n",
      " -0.06009166  0.00488997  0.00331741]\n",
      "Sklearn beta poly degree = 8: [ 1.05235735 -0.00219623 -0.64340895  0.38134294  0.33555486 -0.08491502\n",
      " -0.06009166  0.00488997  0.00331741]\n",
      "Absolute value of difference bwtween my beta and Sklearn beta, at poly degree = 8: [4.44089210e-16 8.39606162e-16 2.77555756e-15 1.05471187e-15\n",
      " 1.49880108e-15 4.85722573e-16 1.80411242e-16 2.51534904e-17\n",
      " 1.77809156e-17]\n",
      "######################################################################################################\n",
      "My beta poly degree = 9: [ 1.05235735e+00  1.13000170e-01 -6.43408954e-01  1.96827633e-01\n",
      "  3.35554855e-01 -6.33709779e-03 -6.00916591e-02 -7.36599186e-03\n",
      "  3.31740635e-03  6.31800123e-04]\n",
      "Sklearn beta poly degree = 9: [ 1.05235735e+00  1.13000170e-01 -6.43408954e-01  1.96827633e-01\n",
      "  3.35554855e-01 -6.33709779e-03 -6.00916591e-02 -7.36599186e-03\n",
      "  3.31740635e-03  6.31800123e-04]\n",
      "Absolute value of difference bwtween my beta and Sklearn beta, at poly degree = 9: [9.65894031e-14 4.77951012e-14 2.66564548e-13 4.72122341e-14\n",
      " 1.38611345e-13 8.74907785e-15 2.37102005e-14 4.25007252e-17\n",
      " 1.29930788e-15 1.13082287e-16]\n",
      "######################################################################################################\n",
      "My beta poly degree = 10: [ 1.15842552e+00  1.13000170e-01 -1.28098303e+00  1.96827633e-01\n",
      "  9.39374211e-01 -6.33709779e-03 -2.58013522e-01 -7.36599186e-03\n",
      "  2.95729563e-02  6.31800123e-04 -1.21090326e-03]\n",
      "Sklearn beta poly degree = 10: [ 1.15842552e+00  1.13000170e-01 -1.28098303e+00  1.96827633e-01\n",
      "  9.39374211e-01 -6.33709779e-03 -2.58013522e-01 -7.36599186e-03\n",
      "  2.95729563e-02  6.31800123e-04 -1.21090326e-03]\n",
      "Absolute value of difference bwtween my beta and Sklearn beta, at poly degree = 10: [2.70894418e-14 2.01505479e-14 1.19904087e-14 8.07687250e-15\n",
      " 3.96349620e-14 9.28077060e-16 1.50990331e-14 4.42354486e-16\n",
      " 1.95329863e-15 7.73036149e-17 7.28583860e-17]\n",
      "######################################################################################################\n"
     ]
    }
   ],
   "source": [
    "for i in poly_degrees:\n",
    "    my_X = polynomial_features(x, i)\n",
    "    my_beta = OLS_parameters(my_X, y)\n",
    "\n",
    "    skl_X = PolynomialFeatures(i)                       # Telling poly_features it is a feature matrix of 2. degree\n",
    "    skl_X_poly = skl_X.fit_transform(x.reshape(-1, 1))\n",
    "    skl_poly_model = LinearRegression(fit_intercept=False).fit(skl_X_poly, y)\n",
    "    skl_beta = skl_poly_model.coef_\n",
    "\n",
    "    print(f\"My beta poly degree = {i}:\", my_beta)\n",
    "    print(f\"Sklearn beta poly degree = {i}:\", skl_beta)\n",
    "    print(f\"Absolute value of difference bwtween my beta and Sklearn beta, at poly degree = {i}:\", np.abs(my_beta - skl_beta))\n",
    "    print(\"######################################################################################################\")\n"
   ]
  },
  {
   "cell_type": "markdown",
   "id": "748dff90",
   "metadata": {},
   "source": [
    "<u>**Answer**</u>: We see that the beta values produced is very much in agreement between the to functions."
   ]
  }
 ],
 "metadata": {
  "kernelspec": {
   "display_name": "base",
   "language": "python",
   "name": "python3"
  },
  "language_info": {
   "codemirror_mode": {
    "name": "ipython",
    "version": 3
   },
   "file_extension": ".py",
   "mimetype": "text/x-python",
   "name": "python",
   "nbconvert_exporter": "python",
   "pygments_lexer": "ipython3",
   "version": "3.13.5"
  }
 },
 "nbformat": 4,
 "nbformat_minor": 5
}
