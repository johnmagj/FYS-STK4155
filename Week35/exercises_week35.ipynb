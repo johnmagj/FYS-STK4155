{
 "cells": [
  {
   "cell_type": "markdown",
   "id": "b4005770",
   "metadata": {},
   "source": [
    "# Exercises week 35\n",
    "\n",
    "## Deriving and Implementing Ordinary Least Squares"
   ]
  },
  {
   "cell_type": "markdown",
   "id": "2ca1b589",
   "metadata": {},
   "source": [
    "This week you will be deriving the analytical expressions for linear regression, building up the model from scratch. This will include taking several derivatives of products of vectors and matrices. Such derivatives are central to the optimization of many machine learning models. Although we will often use automatic differentiation in actual calculations, to be able to have analytical expressions is extremely helpful in case we have simpler derivatives as well as when we analyze various properties (like second derivatives) of the chosen cost functions.\n",
    "\n",
    "Vectors are always written as boldfaced lower case letters and matrices as upper case boldfaced letters. You will find useful the notes from week 35 on derivatives of vectors and matrices. See also the textbook of Faisal at al, chapter 5 and in particular sections 5.3-5.5 at <https://github.com/CompPhysics/MachineLearning/blob/master/doc/Textbooks/MathMLbook.pdf>"
   ]
  },
  {
   "cell_type": "markdown",
   "id": "41e92bf9",
   "metadata": {},
   "source": [
    "### Learning goals\n",
    "\n",
    "After completing these exercises, you will know how to\n",
    "- Take the derivatives of simple products between vectors and matrices\n",
    "- Implement OLS using the analytical expressions\n",
    "- Create a feature matrix from a set of data\n",
    "- Create a feature matrix for a polynomial model\n",
    "- Evaluate the MSE score of various model on training and test data, and comparing their performance\n",
    "\n",
    "### Deliverables\n",
    "\n",
    "Complete the following exercises while working in a jupyter notebook. Then, in canvas, include\n",
    "- The jupyter notebook with the exercises completed\n",
    "- An exported PDF of the notebook (https://code.visualstudio.com/docs/datascience/jupyter-notebooks#_export-your-jupyter-notebook)"
   ]
  },
  {
   "cell_type": "markdown",
   "id": "f7a9209d",
   "metadata": {},
   "source": [
    "## How to take derivatives of Matrix-Vector expressions"
   ]
  },
  {
   "cell_type": "markdown",
   "id": "45f3712e",
   "metadata": {},
   "source": [
    "In these exercises it is always useful to write out with summation indices the various quantities. Take also a look at the weekly slides from week 35 and the various examples included there.\n",
    "\n",
    "As an example, consider the function\n",
    "\n",
    "$$\n",
    "f(\\boldsymbol{x}) =\\boldsymbol{A}\\boldsymbol{x},\n",
    "$$\n",
    "\n",
    "which reads for a specific component $f_i$ (we define the matrix $\\boldsymbol{A}$ to have dimension $n\\times n$ and the vector $\\boldsymbol{x}$ to have length $n$)\n",
    "\n",
    "$$\n",
    "f_i =\\sum_{j=0}^{n-1}a_{ij}x_j,\n",
    "$$\n",
    "\n",
    "which leads to\n",
    "\n",
    "$$\n",
    "\\frac{\\partial f_i}{\\partial x_j}= a_{ij},\n",
    "$$\n",
    "\n",
    "and written out in terms of the vector $\\boldsymbol{x}$ we have\n",
    "\n",
    "$$\n",
    "\\frac{\\partial f(\\boldsymbol{x})}{\\partial \\boldsymbol{x}}= \\boldsymbol{A}.\n",
    "$$"
   ]
  },
  {
   "cell_type": "markdown",
   "id": "5fa8a4e6",
   "metadata": {},
   "source": [
    "## Exercise 1 - Finding the derivative of Matrix-Vector expressions"
   ]
  },
  {
   "cell_type": "markdown",
   "id": "df7a2270",
   "metadata": {},
   "source": [
    "**a)** Consider the expression\n",
    "\n",
    "$$\n",
    "\\frac{\\partial (\\boldsymbol{a}^T\\boldsymbol{x})}{\\partial \\boldsymbol{x}},\n",
    "$$\n",
    "\n",
    "Where $\\boldsymbol{a}$ and $\\boldsymbol{x}$ are column-vectors with length $n$.\n",
    "\n",
    "What is the *shape* of the expression we are taking the derivative of?\n",
    "\n",
    "What is the *shape* of the thing we are taking the derivative with respect to?\n",
    "\n",
    "What is the *shape* of the result of the expression?"
   ]
  },
  {
   "cell_type": "markdown",
   "id": "94822c49",
   "metadata": {},
   "source": [
    "<u>**Answer:**</u> Since $\\boldsymbol{a}$ and $\\boldsymbol{x}$ are column-vectors with length $\\boldsymbol{n}$, they both have the shape $(n \\times 1)$, $n$ rows in $1$ column. This means that $\\boldsymbol{a}^T$, the transpose of $\\boldsymbol{a}$, would take on the shape $(n \\times 1)^T \\rightarrow (1 \\times n)$, in other words become a row vector. Therefore the matrix multiplication $\\boldsymbol{a}^T \\boldsymbol{x}$ leads to the shape $(1 \\times n) (n \\times 1) \\rightarrow (1 \\times 1)$. Thus the expression we are taking the derivative of, $\\boldsymbol{a}^T \\boldsymbol{x}$, is a scalar.\n",
    "\n",
    "We are differentiating with respect to $\\boldsymbol{x}$, which has shape ($n \\times 1$).\n",
    "\n",
    "$\\dfrac{\\partial (\\boldsymbol{a}^T\\boldsymbol{x})}{\\partial \\boldsymbol{x}}$ is called the **Jacobian** or the **Jacobian matrix** of the expression $\\boldsymbol{a}^T \\boldsymbol{x}$. The differential operator $\\dfrac{\\partial}{\\partial \\boldsymbol{x}}$ leading to the matrix is explicitly defined to have its elements along the rows in the matrix, even tho $\\boldsymbol{x}$ is a ($n \\times 1$) coulmn vector. This could be confusing since the \"normal\" way of thinking about operators and matrix multiplication, is that the inner dimensions must agree: $(a \\times b)(b \\times c) \\rightarrow (a \\times c)$. So $\\dfrac{\\partial}{\\partial \\boldsymbol{x}}$ being $(1 \\times n)$, would certainly not agree with $\\boldsymbol{a}^T\\boldsymbol{x}$ being $(1 \\times 1)$.\n",
    "\n",
    "Given the above, the **Jacobian matrix** of the expression $\\boldsymbol{a}^T \\boldsymbol{x}$ is a $(1 \\times n)$ matrix, i.e. a row vector. We could also have said that since the elements of $\\boldsymbol{a}^T$ are independent of $\\boldsymbol{x}$, using the product rule: $\\dfrac{\\partial (\\boldsymbol{a}^T\\boldsymbol{x})}{\\partial \\boldsymbol{x}} = \\boldsymbol{a}^T$, which we have shown have the shape $(1 \\times n)$.\n"
   ]
  },
  {
   "cell_type": "markdown",
   "id": "c0396734",
   "metadata": {},
   "source": [
    "**b)** Show that\n",
    "\n",
    "$$\n",
    "\\frac{\\partial (\\boldsymbol{a}^T\\boldsymbol{x})}{\\partial \\boldsymbol{x}} = \\boldsymbol{a}^T,\n",
    "$$"
   ]
  },
  {
   "cell_type": "markdown",
   "id": "a77a9bb4",
   "metadata": {},
   "source": [
    "<u>**Answer**</u>: First: \n",
    "\n",
    "$$\n",
    "\\boldsymbol{a}^T \\boldsymbol{x} = \\left( \\begin{array}{cccc} a_0, & a_1, & \\cdots, & a_{n-1} \\end{array} \\right) \\left( \\begin{array}{c} x_0 \\\\ x_1 \\\\ \\vdots \\\\ x_{n-1} \\end{array} \\right) = \\left( \\begin{array}{cccc} a_0 x_0 + a_1 x_1 + \\cdots + a_{n-1} x_{n-1} \\end{array} \\right)\n",
    "$$\n",
    "\n",
    "The differentiation operator, in the context of producing the Jacobian matrix for $f$ - differentiating with respect to $\\boldsymbol{x}$ shape $(n \\times 1)$:\n",
    "\n",
    "$$\n",
    "\\dfrac{\\partial f}{\\partial \\boldsymbol{x}} = \\left( \\begin{array}{cccc} \\cfrac{\\partial f}{\\partial x_0}, & \\cfrac{\\partial f}{\\partial x_1}, & \\dots, & \\cfrac{\\partial f}{\\partial x_{n-1}} \\end{array} \\right)\n",
    "$$\n",
    "\n",
    "So:\n",
    "\n",
    "\\begin{align*}\n",
    "\\frac{\\partial (\\boldsymbol{a}^T\\boldsymbol{x})}{\\partial \\boldsymbol{x}} &= \\left( \\begin{array}{cccc} \\cfrac{\\partial}{\\partial x_0} \\left( a_0 x_0 + a_1 x_1 + \\cdots + a_{n-1} x_{n-1} \\right), & \\cfrac{\\partial}{\\partial x_1} \\left( a_0 x_0 + a_1 x_1 + \\cdots + a_{n-1} x_{n-1} \\right), & \\dots, & \\cfrac{\\partial}{\\partial x_{n-1}} \\left( a_0 x_0 + a_1 x_1 + \\cdots + a_{n-1} x_{n-1} \\right) \\end{array} \\right) \\\\\n",
    "\n",
    "\\\\\n",
    "\n",
    "&= \\left( \\begin{array}{cccc} a_0, & a_1, & \\dots, & a_{n-1} \\end{array} \\right) \\\\\n",
    "\n",
    "\\\\\n",
    "\n",
    "&= \\boldsymbol{a}^T\n",
    "\\end{align*}\n",
    "\n",
    "\n",
    "Which we were to show.\n"
   ]
  },
  {
   "cell_type": "markdown",
   "id": "dc39d541",
   "metadata": {},
   "source": [
    "**c)** Show that\n",
    "\n",
    "$$\n",
    "\\frac{\\partial (\\boldsymbol{a}^T\\boldsymbol{A}\\boldsymbol{a})}{\\partial \\boldsymbol{a}} = \\boldsymbol{a}^T(\\boldsymbol{A}+\\boldsymbol{A}^T),\n",
    "$$"
   ]
  },
  {
   "cell_type": "markdown",
   "id": "4deb1858",
   "metadata": {},
   "source": [
    "<u>**Answer**</u>: First lets look at the expression $\\boldsymbol{a}^T\\boldsymbol{A}\\boldsymbol{a}$. Just writing there shape: $(1 \\times n)(n \\times n)(n \\times 1) \\rightarrow (1 \\times 1)$. So again we are dealing with the derivative of a scalar with respect to a vector, this time $\\boldsymbol{a}$. The big difference here is that both $\\boldsymbol{a}^T$ and $\\boldsymbol{a}$ depends on the elements in $\\boldsymbol{a}$, and the transpose not having an equvivalent form in the scalar case, preventing the use of the standard product rule. \n",
    "\n",
    "$$\n",
    "\\boldsymbol{a}^T\\boldsymbol{A}\\boldsymbol{a} = \\left( \\begin{array}{cccc} a_0, & a_1, & \\dots, & a_{n-1} \\end{array} \\right)\n",
    "$$\n",
    "\n",
    "\\begin{align*}\n",
    "\\frac{\\partial (\\boldsymbol{a}^T\\boldsymbol{A}\\boldsymbol{a})}{\\partial \\boldsymbol{a}} &=\n",
    "\\end{align*}"
   ]
  },
  {
   "cell_type": "markdown",
   "id": "498d13ec",
   "metadata": {},
   "source": [
    "## Exercise 2 - Deriving the expression for OLS"
   ]
  },
  {
   "cell_type": "markdown",
   "id": "f3f771de",
   "metadata": {},
   "source": [
    "The ordinary least squares method finds the parameters $\\boldsymbol{\\theta}$ which minimizes the squared error between our model $\\boldsymbol{X\\theta}$ and the true values $\\boldsymbol{y}$.\n",
    "\n",
    "To find the parameters $\\boldsymbol{\\theta}$ which minimizes this error, we take the derivative of the squared error expression with respect to $\\boldsymbol{\\theta}$, and set it equal to 0."
   ]
  },
  {
   "cell_type": "markdown",
   "id": "49690237",
   "metadata": {},
   "source": [
    "**a)** Very briefly explain why the approach above finds the parameters $\\boldsymbol{\\theta}$ which minimizes this error."
   ]
  },
  {
   "cell_type": "markdown",
   "id": "9dacbbce",
   "metadata": {},
   "source": [
    "<u>**Answer**</u>: "
   ]
  },
  {
   "cell_type": "markdown",
   "id": "b7cccc9d",
   "metadata": {},
   "source": [
    "We typically write the squared error as\n",
    "\n",
    "$$\n",
    "\\vert\\vert\\boldsymbol{y} - \\boldsymbol{X\\theta}\\vert\\vert^2\n",
    "$$\n",
    "\n",
    "which we can rewrite in matrix-vector form as\n",
    "\n",
    "$$\n",
    "\\left(\\boldsymbol{y}-\\boldsymbol{X}\\boldsymbol{\\theta}\\right)^T\\left(\\boldsymbol{y}-\\boldsymbol{X}\\boldsymbol{\\theta}\\right)\n",
    "$$"
   ]
  },
  {
   "cell_type": "markdown",
   "id": "8fbecf74",
   "metadata": {},
   "source": [
    "**b)** If $\\boldsymbol{X}$ is invertible, what is the expression for the optimal parameters $\\boldsymbol{\\theta}$? (**Hint:** Don't compute any derivatives, but solve $\\boldsymbol{X\\theta}=\\boldsymbol{y}$ for $\\boldsymbol{\\theta}$)"
   ]
  },
  {
   "cell_type": "markdown",
   "id": "f37af8f0",
   "metadata": {},
   "source": [
    "**c)** Show that\n",
    "\n",
    "$$\n",
    "\\frac{\\partial \\left(\\boldsymbol{x}-\\boldsymbol{A}\\boldsymbol{s}\\right)^T\\left(\\boldsymbol{x}-\\boldsymbol{A}\\boldsymbol{s}\\right)}{\\partial \\boldsymbol{s}} = -2\\left(\\boldsymbol{x}-\\boldsymbol{A}\\boldsymbol{s}\\right)^T\\boldsymbol{A},\n",
    "$$"
   ]
  },
  {
   "cell_type": "markdown",
   "id": "869fca4d",
   "metadata": {},
   "source": [
    "**d)** Using the expression from **c)**, but substituting back in $\\boldsymbol{\\theta}$, $\\boldsymbol{y}$ and $\\boldsymbol{X}$, find the expression for the optimal parameters $\\boldsymbol{\\theta}$ in the case that $\\boldsymbol{X}$ is not invertible, but $\\boldsymbol{X^T X}$ is, which is most often the case.\n",
    "\n",
    "$$\n",
    "\\boldsymbol{\\hat{\\theta}_{OLS}} = ...\n",
    "$$"
   ]
  },
  {
   "cell_type": "markdown",
   "id": "c272ca2a",
   "metadata": {},
   "source": [
    "$$\n",
    "\\frac{\\partial \\left(\\boldsymbol{x}-\\boldsymbol{A}\\boldsymbol{s}\\right)^T\\left(\\boldsymbol{x}-\\boldsymbol{A}\\boldsymbol{s}\\right)}{\\partial \\boldsymbol{s}} = -2\\left(\\boldsymbol{y}-\\boldsymbol{X}\\boldsymbol{\\theta}\\right)^T\\boldsymbol{X},\n",
    "$$"
   ]
  },
  {
   "cell_type": "markdown",
   "id": "57ca3d74",
   "metadata": {},
   "source": [
    "## Exercise 3 - Creating feature matrix and implementing OLS using the analytical expression"
   ]
  },
  {
   "cell_type": "markdown",
   "id": "5dc179f7",
   "metadata": {},
   "source": [
    "With the expression for $\\boldsymbol{\\hat{\\theta}_{OLS}}$, you now have what you need to implement OLS regression with your input data and target data $\\boldsymbol{y}$. But before you can do that, you need to set up you input data as a feature matrix $\\boldsymbol{X}$.\n",
    "\n",
    "In a feature matrix, each row is a datapoint and each column is a feature of that data. If you want to predict someones spending based on their income and number of children, for instance, you would create a row for each person in your dataset, with the montly income and the number of children as columns.\n",
    "\n",
    "We typically also include an intercept in our models. The intercept is a value that is added to our prediction regardless of the value of the other features. The intercept tries to account for constant effects in our data that are not dependant on anything else. In our current example, the intercept could account for living expenses which are typical regardless of income or childcare expenses.\n",
    "\n",
    "We calculate the optimal intercept by including a feature with the constant value of 1 in our model, which is then multplied by some parameter $\\theta_0$ from the OLS method into the optimal intercept value (which will be $\\theta_0$). In practice, we include the intercept in our model by adding a column of ones to the start of our feature matrix."
   ]
  },
  {
   "cell_type": "code",
   "execution_count": 3,
   "id": "e5ff2a69",
   "metadata": {},
   "outputs": [],
   "source": [
    "import numpy as np"
   ]
  },
  {
   "cell_type": "code",
   "execution_count": 6,
   "id": "a3cf2792",
   "metadata": {},
   "outputs": [],
   "source": [
    "n = 20\n",
    "income = np.array([116., 161., 167., 118., 172., 163., 179., 173., 162., 116., 101., 176., 178., 172., 143., 135., 160., 101., 149., 125.])\n",
    "children = np.array([5, 3, 0, 4, 5, 3, 0, 4, 4, 3, 3, 5, 1, 0, 2, 3, 2, 1, 5, 4])\n",
    "spending = np.array([152., 141., 102., 136., 161., 129.,  99., 159., 160., 107.,  98., 164., 121.,  93., 112., 127., 117.,  69., 156., 131.])\n"
   ]
  },
  {
   "cell_type": "markdown",
   "id": "5da61481",
   "metadata": {},
   "source": [
    "**a)** Create a feature matrix $\\boldsymbol{X}$ for the features income and children, including an intercept column of ones at the start."
   ]
  },
  {
   "cell_type": "code",
   "execution_count": 7,
   "id": "5ad87a65",
   "metadata": {},
   "outputs": [],
   "source": [
    "X = np.zeros((n, 3))\n",
    "X[:, 0] = np.ones(n)\n",
    "X[:, 1] = income\n",
    "X[:, 2] = children\n",
    "\n",
    "y = spending"
   ]
  },
  {
   "cell_type": "markdown",
   "id": "9b1bb81c",
   "metadata": {},
   "source": [
    "This create a feature matrix with $\\boldsymbol{X}$ with first column having ones, second the income, and third the number of children.  "
   ]
  },
  {
   "cell_type": "markdown",
   "id": "e0ddfac2",
   "metadata": {},
   "source": [
    "**b)** Use the expression from **2d)** to find the optimal parameters $\\boldsymbol{\\hat{\\beta}_{OLS}}$ for predicting spending based on these features. Create a function for this operation, as you are going to need to use it a lot."
   ]
  },
  {
   "cell_type": "code",
   "execution_count": 8,
   "id": "8f3f68aa",
   "metadata": {},
   "outputs": [
    {
     "name": "stdout",
     "output_type": "stream",
     "text": [
      "The beta vector: [ 9.12808583  0.5119025  14.60743095]\n"
     ]
    }
   ],
   "source": [
    "def OLS_parameters(X, y):\n",
    "    \"\"\"\n",
    "    Take an invertible feature matrix X, and a column vector y\n",
    "\n",
    "    Return the parameters of OLS fit.\n",
    "    \"\"\"\n",
    "    X_inv = np.linalg.pinv(X) # The inverse of matrix X, using .pinv in case X is not square\n",
    "    beta = X_inv @ y    # The beta vector in: X @ beta = y, solved for beta\n",
    "    return beta\n",
    "\n",
    "beta = OLS_parameters(X, y)\n",
    "print(\"The beta vector:\", beta)"
   ]
  },
  {
   "cell_type": "markdown",
   "id": "0cb6da80",
   "metadata": {},
   "source": [
    "## Exercise 4 - Fitting a polynomial"
   ]
  },
  {
   "cell_type": "markdown",
   "id": "71015064",
   "metadata": {},
   "source": [
    "In this course, we typically do linear regression using polynomials, though in real world applications it is also very common to make linear models based on measured features like you did in the previous exercise.\n",
    "\n",
    "When fitting a polynomial with linear regression, we make each polynomial degree($x, x^2, x^3, ..., x^p$) its own feature."
   ]
  },
  {
   "cell_type": "code",
   "execution_count": 9,
   "id": "d7476c84",
   "metadata": {},
   "outputs": [],
   "source": [
    "n = 100\n",
    "x = np.linspace(-3, 3, n)\n",
    "y = np.exp(-x**2) + 1.5 * np.exp(-(x-2)**2) + np.random.normal(0, 0.1)"
   ]
  },
  {
   "cell_type": "markdown",
   "id": "8321451b",
   "metadata": {},
   "source": [
    "**a)** Create a feature matrix $\\boldsymbol{X}$ for the features $x, x^2, x^3, x^4, x^5$, including an intercept column of ones at the start. Make this into a function, as you will do this a lot over the next weeks."
   ]
  },
  {
   "cell_type": "code",
   "execution_count": 10,
   "id": "91496e40",
   "metadata": {},
   "outputs": [],
   "source": [
    "def polynomial_features(x, p):\n",
    "    \"\"\"\n",
    "    Take an array of x values, and the desired polynomial degree p.\n",
    "\n",
    "    Create a feature (design) matrix with ones in the first column, and the subsequently columns containing \n",
    "    x with the elements raised to the power of the corresponding column number, degree x^1 to x^p.\n",
    "    \"\"\"\n",
    "    n = len(x)\n",
    "    X = np.zeros((n, p + 1))\n",
    "    X[:, 0] = np.ones(n)     # Create first column with only ones, the intercept\n",
    "    for i in range(1, p+1):\n",
    "        X[:, i] = x**i\n",
    "    \n",
    "    return X\n",
    "\n",
    "X = polynomial_features(x, 5)"
   ]
  },
  {
   "cell_type": "markdown",
   "id": "b84b1e31",
   "metadata": {},
   "source": [
    "**b)** Use the expression from **2d)** to find the optimal parameters $\\boldsymbol{\\hat{\\beta}_{OLS}}$ for predicting $\\boldsymbol{y}$ based on these features. If you have done everything right so far, this code will not need changing."
   ]
  },
  {
   "cell_type": "code",
   "execution_count": 11,
   "id": "034f502c",
   "metadata": {},
   "outputs": [
    {
     "name": "stdout",
     "output_type": "stream",
     "text": [
      "[ 0.92476031  0.27464654 -0.02326439  0.05342623 -0.0034652  -0.0087781 ]\n"
     ]
    }
   ],
   "source": [
    "beta = OLS_parameters(X, y)\n",
    "print(beta)"
   ]
  },
  {
   "cell_type": "markdown",
   "id": "d703f788",
   "metadata": {},
   "source": [
    "**c)** Like in exercise 4 last week, split your feature matrix and target data into a training split and test split."
   ]
  },
  {
   "cell_type": "code",
   "execution_count": 15,
   "id": "29171358",
   "metadata": {},
   "outputs": [],
   "source": [
    "from sklearn.model_selection import train_test_split\n",
    "\n",
    "X_train, X_test, y_train, y_test = train_test_split(X, y, test_size=0.2)"
   ]
  },
  {
   "cell_type": "markdown",
   "id": "a0e3509f",
   "metadata": {},
   "source": [
    "**d)** Train your model on the training data(find the parameters which best fit) and compute the MSE on both the training and test data."
   ]
  },
  {
   "cell_type": "code",
   "execution_count": 16,
   "id": "9874c2c0",
   "metadata": {},
   "outputs": [],
   "source": [
    "import matplotlib.pyplot as plt "
   ]
  },
  {
   "cell_type": "code",
   "execution_count": 17,
   "id": "1e346f4c",
   "metadata": {},
   "outputs": [
    {
     "name": "stdout",
     "output_type": "stream",
     "text": [
      "[ 0.94197731  0.29095188 -0.03165395  0.04865894 -0.00247455 -0.00851547]\n",
      "[0.09592808 0.09598155 0.09605634 0.09616012 0.09630302 0.09649825\n",
      " 0.09676291 0.09711888 0.09759388 0.09822273 0.09904869 0.10012492\n",
      " 0.1015161  0.1033     0.10556907 0.10843197 0.11201475 0.11646178\n",
      " 0.12193615 0.12861935 0.13671024 0.1464229  0.15798337 0.17162521\n",
      " 0.18758356 0.20608798 0.22735388 0.25157282 0.27890185 0.3094523\n",
      " 0.34327834 0.38036591 0.42062262 0.46386923 0.50983339 0.55814625\n",
      " 0.60834253 0.65986453 0.71207033 0.76424641 0.81562444 0.86540211\n",
      " 0.91276726 0.95692466 0.99712435 1.0326905  1.06304948 1.08775586\n",
      " 1.10651509 1.11920174 1.12587216 1.12677096 1.12233052 1.11316358\n",
      " 1.10004864 1.08390878 1.06578438 1.0468007  1.02813131 1.01095876\n",
      " 0.99643381 0.98563461 0.97952732 0.97892963 0.98447839 0.99660267\n",
      " 1.01550328 1.0411395  1.07322389 1.11122522 1.15438005 1.20171237\n",
      " 1.25206108 1.30411445 1.35645046 1.40758162 1.45600279 1.50024017\n",
      " 1.53889958 1.57071217 1.59457579 1.60959019 1.61508479 1.61063784\n",
      " 1.59608628 1.57152602 1.53730277 1.49399415 1.44238389 1.38342965\n",
      " 1.31822599 1.24796433 1.17389157 1.09726947 1.01933618 0.94127152\n",
      " 0.86416716 0.78900246 0.71662665 0.64774725]\n"
     ]
    },
    {
     "data": {
      "text/plain": [
       "<matplotlib.collections.PathCollection at 0x158fd4051d0>"
      ]
     },
     "execution_count": 17,
     "metadata": {},
     "output_type": "execute_result"
    },
    {
     "data": {
      "image/png": "[encoded data removed]",
      "text/plain": [
       "<Figure size 640x480 with 1 Axes>"
      ]
     },
     "metadata": {},
     "output_type": "display_data"
    }
   ],
   "source": [
    "beta_train = OLS_parameters(X_train, y_train)\n",
    "print(beta_train)\n",
    "\n",
    "def model_func(x, beta):\n",
    "    \"\"\"\n",
    "    Creating a model function by using the beta values as parameters in a polynomial of degree len(beta). \n",
    "    Automatically finding the degree of the polynomial from len(beta).\n",
    "    \"\"\"\n",
    "    n = len(beta)\n",
    "    beta = beta.reshape((n, 1)) # Explicitly shaping beta array to a column vector, (1 x len(beta))\n",
    "    X = np.zeros((len(x), n))   # Shape(len(x), n) \n",
    "    for i in range(n):          # First column is filled with ones, cause x**0 = 1\n",
    "        X[:,i] = x**i\n",
    "    y = X @ beta\n",
    "    return y\n",
    "\n",
    "model = model_func(x,  beta)\n",
    "\n",
    "print(y)\n",
    "plt.scatter(x, y)\n",
    "plt.scatter(x, model)"
   ]
  },
  {
   "cell_type": "markdown",
   "id": "7e431889",
   "metadata": {},
   "source": [
    "**e)** Do the same for each polynomial degree from 2 to 10, and plot the MSE on both the training and test data as a function of polynomial degree. The aim is to reproduce Figure 2.11 of [Hastie et al](https://github.com/CompPhysics/MLErasmus/blob/master/doc/Textbooks/elementsstat.pdf). Feel free to read the discussions leading to figure 2.11 of Hastie et al. "
   ]
  },
  {
   "cell_type": "code",
   "execution_count": 36,
   "id": "ceb57457",
   "metadata": {},
   "outputs": [
    {
     "data": {
      "text/plain": [
       "Ellipsis"
      ]
     },
     "execution_count": 36,
     "metadata": {},
     "output_type": "execute_result"
    }
   ],
   "source": [
    "..."
   ]
  },
  {
   "cell_type": "markdown",
   "id": "5e5b5954",
   "metadata": {},
   "source": [
    "**f)** Interpret the graph. Why do the lines move as they do? What does it tell us about model performance and generalizability?"
   ]
  },
  {
   "cell_type": "markdown",
   "id": "ad2acfb9",
   "metadata": {},
   "source": []
  },
  {
   "cell_type": "markdown",
   "id": "5994f0c5",
   "metadata": {},
   "source": [
    "## Exercise 5 - Comparing your code with sklearn"
   ]
  },
  {
   "cell_type": "markdown",
   "id": "8f595b7a",
   "metadata": {},
   "source": [
    "When implementing different algorithms for the first time, it can be helpful to double check your results with established implementations before you go on to add more complexity."
   ]
  },
  {
   "cell_type": "markdown",
   "id": "8ab310c1",
   "metadata": {},
   "source": [
    "**a)** Make sure your `polynomial_features` function creates the same feature matrix as sklearns PolynomialFeatures.\n",
    "\n",
    "(https://scikit-learn.org/stable/modules/generated/sklearn.preprocessing.PolynomialFeatures.html)"
   ]
  },
  {
   "cell_type": "code",
   "execution_count": null,
   "id": "85b964d1",
   "metadata": {},
   "outputs": [],
   "source": []
  },
  {
   "cell_type": "markdown",
   "id": "73c32c52",
   "metadata": {},
   "source": [
    "**b)** Make sure your `OLS_parameters` function computes the same parameters as sklearns LinearRegression with fit_intercept set to False, since the intercept is included in the feature matrix. Use `your_model_object.coef_` to extract the computed parameters.\n",
    "\n",
    "(https://scikit-learn.org/stable/modules/generated/sklearn.linear_model.LinearRegression.html)"
   ]
  },
  {
   "cell_type": "code",
   "execution_count": null,
   "id": "35b04126",
   "metadata": {},
   "outputs": [],
   "source": []
  }
 ],
 "metadata": {
  "kernelspec": {
   "display_name": "base",
   "language": "python",
   "name": "python3"
  },
  "language_info": {
   "codemirror_mode": {
    "name": "ipython",
    "version": 3
   },
   "file_extension": ".py",
   "mimetype": "text/x-python",
   "name": "python",
   "nbconvert_exporter": "python",
   "pygments_lexer": "ipython3",
   "version": "3.13.5"
  }
 },
 "nbformat": 4,
 "nbformat_minor": 5
}
