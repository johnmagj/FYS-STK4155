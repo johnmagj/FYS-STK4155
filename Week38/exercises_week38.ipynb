{
 "cells": [
  {
   "cell_type": "markdown",
   "id": "1da77599",
   "metadata": {},
   "source": [
    "# Exercises week 38\n",
    "\n",
    "## September 15-19\n",
    "\n",
    "## Resampling and the Bias-Variance Trade-off\n"
   ]
  },
  {
   "cell_type": "markdown",
   "id": "e9f27b0e",
   "metadata": {},
   "source": [
    "### Learning goals\n",
    "\n",
    "After completing these exercises, you will know how to\n",
    "\n",
    "- Derive expectation and variances values related to linear regression\n",
    "- Compute expectation and variances values related to linear regression\n",
    "- Compute and evaluate the trade-off between bias and variance of a model\n",
    "\n",
    "### Deliverables\n",
    "\n",
    "Complete the following exercises while working in a jupyter notebook. Then, in canvas, include\n",
    "\n",
    "- The jupyter notebook with the exercises completed\n",
    "- An exported PDF of the notebook (https://code.visualstudio.com/docs/datascience/jupyter-notebooks#_export-your-jupyter-notebook)\n"
   ]
  },
  {
   "cell_type": "markdown",
   "id": "984af8e3",
   "metadata": {},
   "source": [
    "## Use the books!\n",
    "\n",
    "This week deals with various mean values and variances in linear regression methods (here it may be useful to look up chapter 3, equation (3.8) of [Trevor Hastie, Robert Tibshirani, Jerome H. Friedman, The Elements of Statistical Learning, Springer](https://www.springer.com/gp/book/9780387848570)).\n",
    "\n",
    "For more discussions on Ridge regression and calculation of expectation values, [Wessel van Wieringen's](https://arxiv.org/abs/1509.09169) article is highly recommended.\n",
    "\n",
    "The exercises this week are also a part of project 1 and can be reused in the theory part of the project.\n",
    "\n",
    "### Definitions\n",
    "\n",
    "We assume that there exists a continuous function $f(\\boldsymbol{x})$ and a normal distributed error $\\boldsymbol{\\varepsilon}\\sim N(0, \\sigma^2)$ which describes our data\n"
   ]
  },
  {
   "cell_type": "markdown",
   "id": "c16f7d0e",
   "metadata": {},
   "source": [
    "$$\n",
    "\\boldsymbol{y} = f(\\boldsymbol{x})+\\boldsymbol{\\varepsilon}\n",
    "$$\n"
   ]
  },
  {
   "cell_type": "markdown",
   "id": "9fcf981a",
   "metadata": {
    "vscode": {
     "languageId": "plaintext"
    }
   },
   "source": [
    "We further assume that this continous function can be modeled with a linear model $\\mathbf{\\tilde{y}}$ of some features $\\mathbf{X}$.\n"
   ]
  },
  {
   "cell_type": "markdown",
   "id": "d4189366",
   "metadata": {},
   "source": [
    "$$\n",
    "\\boldsymbol{y} = \\boldsymbol{\\tilde{y}} + \\boldsymbol{\\varepsilon} = \\boldsymbol{X}\\boldsymbol{\\beta} +\\boldsymbol{\\varepsilon}\n",
    "$$\n"
   ]
  },
  {
   "cell_type": "markdown",
   "id": "66b3dffc",
   "metadata": {},
   "source": [
    "**For clarity**, the above should maybe have been written in this way, with $\\boldsymbol{e}$ as the residual, $\\boldsymbol{e} = \\boldsymbol{y} - \\boldsymbol{\\tilde{y}}$, so not to confuse it with the noise in $\\boldsymbol{y}$: \n",
    "$$\n",
    "\\boldsymbol{y} = \\boldsymbol{\\tilde{y}} + \\boldsymbol{e} = \\boldsymbol{X}\\boldsymbol{\\beta} +\\boldsymbol{e}\n",
    "$$"
   ]
  },
  {
   "cell_type": "markdown",
   "id": "f4fca21b",
   "metadata": {},
   "source": [
    "We therefore get that our data $\\boldsymbol{y}$ has an expectation value $\\boldsymbol{X}\\boldsymbol{\\beta}$ and variance $\\sigma^2$, that is $\\boldsymbol{y}$ follows a normal distribution with mean value $\\boldsymbol{X}\\boldsymbol{\\beta}$ and variance $\\sigma^2$.\n"
   ]
  },
  {
   "cell_type": "markdown",
   "id": "5de0c7e6",
   "metadata": {},
   "source": [
    "## Exercise 1: Expectation values for ordinary least squares expressions\n"
   ]
  },
  {
   "cell_type": "markdown",
   "id": "d878c699",
   "metadata": {},
   "source": [
    "**a)** With the expressions for the optimal parameters $\\boldsymbol{\\boldsymbol{\\hat{\\beta}_{OLS}}}$ show that\n"
   ]
  },
  {
   "cell_type": "markdown",
   "id": "08b7007d",
   "metadata": {},
   "source": [
    "$$\n",
    "\\mathbb{E}(\\boldsymbol{\\boldsymbol{\\hat{\\beta}_{OLS}}}) = \\boldsymbol{\\beta}.\n",
    "$$"
   ]
  },
  {
   "cell_type": "markdown",
   "id": "ce6d6207",
   "metadata": {},
   "source": [
    "<u>**Answer:**</u> We remember that $\\boldsymbol{\\boldsymbol{\\hat{\\beta}_{OLS}}} = \\left( \\boldsymbol{X}^T \\boldsymbol{X} \\right)^{-1} \\boldsymbol{X}^T \\boldsymbol{y}$, so:\n",
    "\n",
    "$$\n",
    "\\mathbb{E}(\\boldsymbol{\\boldsymbol{\\hat{\\beta}_{OLS}}}) = \\mathbb{E} \\left[ \\left( \\boldsymbol{X}^T \\boldsymbol{X} \\right)^{-1} \\boldsymbol{X}^T \\boldsymbol{y} \\right]\n",
    "$$\n",
    "\n",
    "Since the feature matrix $\\boldsymbol{X}$ is non-stochastic we can treat everything to the left of $\\boldsymbol{y}$ as a constant, and apply the linearity of the expectation value operator like this, $ \\mathbb{E}[cA] = \\mathbb{E}[c] \\mathbb{E}[A] = c \\mathbb{E}[A]$. The expectation value of a constant or non-stochastic variable is it self. We then have:\n",
    "$$\n",
    "\\mathbb{E}(\\boldsymbol{\\boldsymbol{\\hat{\\beta}_{OLS}}}) = \\mathbb{E} \\left[ \\left( \\boldsymbol{X}^T \\boldsymbol{X} \\right)^{-1} \\boldsymbol{X}^T \\right] \\mathbb{E} \\left[  \\boldsymbol{y} \\right] = \\left( \\boldsymbol{X}^T \\boldsymbol{X} \\right)^{-1} \\boldsymbol{X}^T \\mathbb{E} \\left[  \\boldsymbol{y} \\right]\n",
    "$$\n",
    "\n",
    "For the last term we have $\\boldsymbol{y} = f(\\boldsymbol{x}) + \\boldsymbol{\\varepsilon} = \\boldsymbol{X} \\boldsymbol{\\beta} + \\boldsymbol{\\varepsilon}$:\n",
    "$$\n",
    "\\mathbb{E} \\left[ \\boldsymbol{y} \\right] = \\mathbb{E} \\left[ f(\\boldsymbol{x}) + \\boldsymbol{\\varepsilon} \\right] = \\mathbb{E} \\left[ f(\\boldsymbol{x}) \\right] + \\mathbb{E} \\left[ \\boldsymbol{\\varepsilon} \\right]\n",
    "$$\n",
    "\n",
    "The error term $\\boldsymbol{\\varepsilon}$ follows the normal distribution, with expectation value equal zero, so we are left with: $\\mathbb{E} \\left[ \\boldsymbol{y} \\right] = \\mathbb{E} \\left[ f(\\boldsymbol{x}) \\right] = \\mathbb{E} \\left[ \\boldsymbol{X \\beta} \\right] = \\boldsymbol{X \\beta}$.\n",
    "\n",
    "Returning to the main expression, we have: \n",
    "$$\n",
    "\\mathbb{E}(\\boldsymbol{\\boldsymbol{\\hat{\\beta}_{OLS}}}) = \\left( \\boldsymbol{X}^T \\boldsymbol{X} \\right)^{-1} \\boldsymbol{X}^T \\boldsymbol{X \\beta}\n",
    "$$\n",
    "\n",
    "$$\n",
    "\\mathbb{E}(\\boldsymbol{\\boldsymbol{\\hat{\\beta}_{OLS}}}) = \\boldsymbol{\\beta}\n",
    "$$\n",
    "\n",
    "Which we were to show."
   ]
  },
  {
   "cell_type": "markdown",
   "id": "46e93394",
   "metadata": {},
   "source": [
    "**b)** Show that the variance of $\\boldsymbol{\\boldsymbol{\\hat{\\beta}_{OLS}}}$ is\n"
   ]
  },
  {
   "cell_type": "markdown",
   "id": "be1b65be",
   "metadata": {},
   "source": [
    "$$\n",
    "\\mathbf{Var}(\\boldsymbol{\\boldsymbol{\\hat{\\beta}_{OLS}}}) = \\sigma^2 \\, (\\mathbf{X}^{T} \\mathbf{X})^{-1}.\n",
    "$$"
   ]
  },
  {
   "cell_type": "markdown",
   "id": "d2143684",
   "metadata": {},
   "source": [
    "We can use the last expression when we define a [confidence interval](https://en.wikipedia.org/wiki/Confidence_interval) for the parameters $\\boldsymbol{\\boldsymbol{\\hat{\\beta}_{OLS}}}$.\n",
    "A given parameter ${\\boldsymbol{\\boldsymbol{\\hat{\\beta}_{OLS}}}}_j$ is given by the diagonal matrix element of the above matrix.\n"
   ]
  },
  {
   "cell_type": "markdown",
   "id": "318bd2ad",
   "metadata": {},
   "source": [
    "<u>**Answer:**</u> For the variance of a stochastic variable $X$ we have that:\n",
    "$$\n",
    "\\mathbf{Var}(X) = \\mathbb{E} \\left[ X^2 \\right] - \\mathbb{E} \\left[ X \\right]^2\n",
    "$$\n",
    "\n",
    "We write:\n",
    "$$\n",
    "\\mathbf{Var}(\\boldsymbol{\\boldsymbol{\\hat{\\beta}_{OLS}}}) = \\mathbb{E} \\left[ \\boldsymbol{\\boldsymbol{\\hat{\\beta}_{OLS}}}^2 \\right] - \\mathbb{E} \\left[ \\boldsymbol{\\boldsymbol{\\hat{\\beta}_{OLS}}} \\right]^2\n",
    "$$\n",
    "\n",
    "Using this expression we would have to take into account that we are dealing with vectors and matrices, and carefully construct it so to represent the squared terms correctly. It would also be quite some algebra to be done. Therefore we try to use some of the computational rules of the variance instead.\n",
    "So we again start with the closed form:\n",
    "$$\n",
    "\\boldsymbol{\\boldsymbol{\\hat{\\beta}_{OLS}}} = \\left( \\boldsymbol{X}^T \\boldsymbol{X} \\right)^{-1} \\boldsymbol{X}^T \\boldsymbol{y}\n",
    "$$\n",
    "\n",
    "Substituting, $y = \\boldsymbol{X \\beta} + \\boldsymbol{\\varepsilon}$:\n",
    "\n",
    "$$\n",
    "\\boldsymbol{\\boldsymbol{\\hat{\\beta}_{OLS}}} = \\left( \\boldsymbol{X}^T \\boldsymbol{X} \\right)^{-1} \\boldsymbol{X}^T \\left( \\boldsymbol{X \\beta} + \\boldsymbol{\\varepsilon} \\right) \n",
    "$$\n",
    "\n",
    "$$\n",
    "= \\left( \\boldsymbol{X}^T \\boldsymbol{X} \\right)^{-1} \\boldsymbol{X}^T \\boldsymbol{X \\beta} + \\left( \\boldsymbol{X}^T \\boldsymbol{X} \\right)^{-1} \\boldsymbol{X}^T  \\boldsymbol{\\varepsilon}\n",
    "$$\n",
    "\n",
    "$$\n",
    "= \\boldsymbol{\\beta} + \\left( \\boldsymbol{X}^T \\boldsymbol{X} \\right)^{-1} \\boldsymbol{X}^T  \\boldsymbol{\\varepsilon}\n",
    "$$\n",
    "\n",
    "Since $\\beta$ is the true coefficient vector, it must have zero variance. we can also think of it as a vector that ads a constant value for each element in the vector representing the second term. Therefore this term is to be considered a constant. For vectors and matrices we have the following rule for the variance of a constant and a product: $\\mathbf{Var}(\\boldsymbol{a} + \\boldsymbol{AM}) = \\boldsymbol{A} \\, \\mathbf{Var}(\\boldsymbol{M}) \\, \\boldsymbol{A}^T$, where $a$ is a non stochastic vector, $\\boldsymbol{A}$ a non stochastic matrix, and $\\boldsymbol{M}$ a vector with stochastic elements. Inserting directly from the expression above we have:\n",
    "\n",
    "$$\n",
    "\\mathbf{Var}(\\boldsymbol{\\hat{\\beta}_{OLS}}) = \\left( \\boldsymbol{X}^T \\boldsymbol{X} \\right)^{-1} \\boldsymbol{X}^T \\, \\mathbf{Var}(\\boldsymbol{\\varepsilon}) \\, \\left( \\left( \\boldsymbol{X}^T \\boldsymbol{X} \\right)^{-1} \\boldsymbol{X}^T \\right)^T\n",
    "$$\n",
    "\n",
    "For $\\boldsymbol{\\varepsilon}$, which elements follows the normal distribution, we have from the definition $\\boldsymbol{\\sigma}^2$, or it could be written $\\sigma^2 \\, \\boldsymbol{I}$. Now, taking the transpose above, and substituting in for the variance:\n",
    "\n",
    "$$\n",
    "\\mathbf{Var}(\\boldsymbol{\\hat{\\beta}_{OLS}}) = \\left( \\boldsymbol{X}^T \\boldsymbol{X} \\right)^{-1} \\boldsymbol{X}^T \\, \\sigma^2 \\, \\boldsymbol{I} \\, \\boldsymbol{X} \\left( \\left( \\boldsymbol{X}^T \\boldsymbol{X} \\right)^{-1} \\right)^T\n",
    "$$\n",
    "\n",
    "Rearranging and combining factors:\n",
    "$$\n",
    "\\mathbf{Var}(\\boldsymbol{\\hat{\\beta}_{OLS}}) = \\sigma^2 \\, \\left( \\left( \\boldsymbol{X}^T \\boldsymbol{X} \\right)^{-1} \\right)^T\n",
    "$$\n",
    "\n",
    "Further reading: Gram matrix.."
   ]
  },
  {
   "cell_type": "markdown",
   "id": "f5c2dc22",
   "metadata": {},
   "source": [
    "## Exercise 2: Expectation values for Ridge regression\n"
   ]
  },
  {
   "cell_type": "markdown",
   "id": "3893e3e7",
   "metadata": {},
   "source": [
    "**a)** With the expressions for the optimal parameters $\\boldsymbol{\\hat{\\beta}_{Ridge}}$ show that\n"
   ]
  },
  {
   "cell_type": "markdown",
   "id": "79dc571f",
   "metadata": {},
   "source": [
    "$$\n",
    "\\mathbb{E} \\big[ \\hat{\\boldsymbol{\\beta}}^{\\mathrm{Ridge}} \\big]=(\\mathbf{X}^{T} \\mathbf{X} + \\lambda \\mathbf{I}_{pp})^{-1} (\\mathbf{X}^{\\top} \\mathbf{X})\\boldsymbol{\\beta}\n",
    "$$\n"
   ]
  },
  {
   "cell_type": "markdown",
   "id": "028209a1",
   "metadata": {},
   "source": [
    "We see that $\\mathbb{E} \\big[ \\hat{\\boldsymbol{\\beta}}^{\\mathrm{Ridge}} \\big] \\not= \\mathbb{E} \\big[\\hat{\\boldsymbol{\\beta}}^{\\mathrm{OLS}}\\big ]$ for any $\\lambda > 0$.\n"
   ]
  },
  {
   "cell_type": "markdown",
   "id": "36ffaee7",
   "metadata": {},
   "source": [
    "<u>**Answer:**</u> We remember that:\n",
    "$$ \\boldsymbol{\\hat{\\beta}_{\\text{Ridge}}} = \\left( \\boldsymbol{X}^T\\boldsymbol{X} + \\lambda\\boldsymbol{I} \\right)^{-1}\\boldsymbol{X}^T\\boldsymbol{y} $$\n",
    "\n",
    "\n",
    "From the derivation of $\\mathbb{E}(\\boldsymbol{\\boldsymbol{\\hat{\\beta}_{OLS}}})$ above, we just smuggle in the $\\lambda\\boldsymbol{I}$ term since it is to be considered a constant, and thus won't affect the calculation:\n",
    "\n",
    "$$\n",
    "\\mathbb{E}(\\boldsymbol{\\hat{\\beta}_{\\text{Ridge}}}) = \\mathbb{E} \\left[ \\left( \\boldsymbol{X}^T \\boldsymbol{X} + \\lambda\\boldsymbol{I}\\right)^{-1} \\boldsymbol{X}^T \\right] \\mathbb{E} \\left[  \\boldsymbol{y} \\right] = \\left( \\boldsymbol{X}^T \\boldsymbol{X} +\\lambda\\boldsymbol{I} \\right)^{-1} \\boldsymbol{X}^T \\mathbb{E} \\left[  \\boldsymbol{y} \\right]\n",
    "$$\n",
    "\n",
    "And we have seen that $\\mathbb{E} \\left[ \\boldsymbol{y} \\right] = \\boldsymbol{X \\beta}$, leading to:\n",
    "$$\n",
    "\\mathbb{E}(\\boldsymbol{\\hat{\\beta}_{\\text{Ridge}}}) = \\left( \\boldsymbol{X}^T \\boldsymbol{X} + \\lambda\\boldsymbol{I} \\right)^{-1} \\boldsymbol{X}^T \\boldsymbol{X \\beta}\n",
    "$$\n",
    "\n",
    "Which we were to show."
   ]
  },
  {
   "cell_type": "markdown",
   "id": "65f6f914",
   "metadata": {},
   "source": [
    "**b)** Why do we say that Ridge regression gives a biased estimate? Is this a problem?\n"
   ]
  },
  {
   "cell_type": "markdown",
   "id": "bad8261f",
   "metadata": {},
   "source": [
    "<u>**Answer:**</u> We say that Ridge regression gives a biased estimate because the it's a systematic error from the true coefficients $\\boldsymbol{\\beta}$. This is  "
   ]
  },
  {
   "cell_type": "markdown",
   "id": "b4e721fc",
   "metadata": {},
   "source": [
    "**c)** Show that the variance is\n"
   ]
  },
  {
   "cell_type": "markdown",
   "id": "090eb1e1",
   "metadata": {},
   "source": [
    "$$\n",
    "\\mathbf{Var}[\\hat{\\boldsymbol{\\beta}}^{\\mathrm{Ridge}}]=\\sigma^2[  \\mathbf{X}^{T} \\mathbf{X} + \\lambda \\mathbf{I} ]^{-1}  \\mathbf{X}^{T}\\mathbf{X} \\{ [  \\mathbf{X}^{\\top} \\mathbf{X} + \\lambda \\mathbf{I} ]^{-1}\\}^{T}\n",
    "$$\n"
   ]
  },
  {
   "cell_type": "markdown",
   "id": "6b8e8697",
   "metadata": {},
   "source": [
    "We see that if the parameter $\\lambda$ goes to infinity then the variance of the Ridge parameters $\\boldsymbol{\\beta}$ goes to zero.\n"
   ]
  },
  {
   "cell_type": "markdown",
   "id": "3b8ed79b",
   "metadata": {},
   "source": [
    "<u>**Answer:**</u> Similar to what we did for the expectation value, we can use the variance of $\\boldsymbol{\\hat{\\beta}_{OLS}}$, and smuggle in the $\\lambda$ term, as it is just to be considered a non stochastic constant and thus won't effect any of the calculation leading up to the final expression. Meaning it just hides inside $A$ when we use the rule: $\\mathbf{Var}(\\boldsymbol{a} + \\boldsymbol{AM}) = \\boldsymbol{A} \\, \\mathbf{Var}(\\boldsymbol{M}) \\, \\boldsymbol{A}^T$. Eventually leading to:\n",
    "$$\n",
    "\n",
    "\\mathbf{Var}(\\hat{\\beta}_{\\text{Ridge}}) = \\left( \\boldsymbol{X}^T \\boldsymbol{X} + \\lambda\\boldsymbol{I} \\right)^{-1} \\boldsymbol{X}^T \\, \\sigma^2 \\, \\boldsymbol{I} \\, \\boldsymbol{X} \\left( \\left( \\boldsymbol{X}^T \\boldsymbol{X} + \\lambda\\boldsymbol{I} \\right)^{-1} \\right)^T\n",
    "$$\n",
    "\n",
    "$$\n",
    "\\mathbf{Var}(\\hat{\\beta}_{\\text{Ridge}}) = \\sigma^2 \\, \\left( \\boldsymbol{X}^T \\boldsymbol{X} + \\lambda\\boldsymbol{I} \\right)^{-1} \\boldsymbol{X}^T \\boldsymbol{X} \\left( \\left( \\boldsymbol{X}^T \\boldsymbol{X} + \\lambda\\boldsymbol{I} \\right)^{-1} \\right)^T\n",
    "$$\n",
    "\n",
    "As we were to show."
   ]
  },
  {
   "cell_type": "markdown",
   "id": "74bc300b",
   "metadata": {},
   "source": [
    "## Exercise 3: Deriving the expression for the Bias-Variance Trade-off\n"
   ]
  },
  {
   "cell_type": "markdown",
   "id": "eeb86010",
   "metadata": {},
   "source": [
    "The aim of this exercise is to derive the equations for the bias-variance tradeoff to be used in project 1.\n",
    "\n",
    "The parameters $\\boldsymbol{\\boldsymbol{\\hat{\\beta}_{OLS}}}$ are found by optimizing the mean squared error via the so-called cost function\n"
   ]
  },
  {
   "cell_type": "markdown",
   "id": "522a0d1d",
   "metadata": {},
   "source": [
    "$$\n",
    "C(\\boldsymbol{X},\\boldsymbol{\\beta}) =\\frac{1}{n}\\sum_{i=0}^{n-1}(y_i-\\tilde{y}_i)^2=\\mathbb{E}\\left[(\\boldsymbol{y}-\\boldsymbol{\\tilde{y}})^2\\right]\n",
    "$$\n"
   ]
  },
  {
   "cell_type": "markdown",
   "id": "831db06c",
   "metadata": {},
   "source": [
    "**a)** Show that you can rewrite this into an expression which contains\n",
    "\n",
    "- the variance of the model (the variance term)\n",
    "- the expected deviation of the mean of the model from the true data (the bias term)\n",
    "- the variance of the noise\n",
    "\n",
    "In other words, show that:\n",
    "\n",
    "$$\n",
    "\\mathbb{E}\\left[(\\boldsymbol{y}-\\boldsymbol{\\tilde{y}})^2\\right]=\\mathrm{Bias}[\\tilde{y}]+\\mathrm{var}[\\tilde{y}]+\\sigma^2,\n",
    "$$\n",
    "\n",
    "with\n",
    "\n",
    "$$\n",
    "\\mathrm{Bias}[\\tilde{y}]=\\mathbb{E}\\left[\\left(\\boldsymbol{y}-\\mathbb{E}\\left[\\boldsymbol{\\tilde{y}}\\right]\\right)^2\\right],\n",
    "$$\n",
    "and\n",
    "\n",
    "$$\n",
    "\\mathrm{var}[\\tilde{y}]=\\mathbb{E}\\left[\\left(\\tilde{\\boldsymbol{y}}-\\mathbb{E}\\left[\\boldsymbol{\\tilde{y}}\\right]\\right)^2\\right]=\\frac{1}{n}\\sum_i(\\tilde{y}_i-\\mathbb{E}\\left[\\boldsymbol{\\tilde{y}}\\right])^2.\n",
    "$$"
   ]
  },
  {
   "cell_type": "markdown",
   "id": "f05d3af0",
   "metadata": {},
   "source": [
    "<u>**Answer:**</u> We start with: \n",
    "$$\n",
    "C(\\boldsymbol{X},\\boldsymbol{\\beta}) = \\mathbb{E}\\left[(\\boldsymbol{y}-\\boldsymbol{\\tilde{y}})^2\\right]\n",
    "$$"
   ]
  },
  {
   "cell_type": "markdown",
   "id": "266dafa9",
   "metadata": {},
   "source": [
    "We have previously made the assumption that $\\boldsymbol{y} = \\boldsymbol{f} + \\varepsilon$ which we subtitute intot he expression above. We also "
   ]
  },
  {
   "cell_type": "markdown",
   "id": "70fbfcd7",
   "metadata": {},
   "source": [
    "**b)** Explain what the terms mean and discuss their interpretations.\n"
   ]
  },
  {
   "cell_type": "markdown",
   "id": "a78dbc1a",
   "metadata": {},
   "source": [
    "<u>**Answer:**</u> The bias of the predicted $y$ values, $\\text{Bias}\\left[\\boldsymbol{\\tilde y}\\right]$ is the mean of the squared difference between prediction and true value. In other words the MSE of the prediction and true value. It is a metric over how much on average the prediction misses on the true value.\n",
    "The variance of the prediction, $\\tilde y$, is a measure how much the predictions varies from the expected prediction value based on the mean.  "
   ]
  },
  {
   "cell_type": "markdown",
   "id": "b8f8b9d1",
   "metadata": {},
   "source": [
    "## Exercise 4: Computing the Bias and Variance\n"
   ]
  },
  {
   "cell_type": "markdown",
   "id": "9e012430",
   "metadata": {},
   "source": [
    "Before you compute the bias and variance of a real model for different complexities, let's for now assume that you have sampled predictions and targets for a single model complexity using bootstrap resampling.\n",
    "\n",
    "**a)** Using the expression above, compute the mean squared error, bias and variance of the given data. Check that the sum of the bias and variance correctly gives (approximately) the mean squared error.\n"
   ]
  },
  {
   "cell_type": "code",
   "execution_count": 1,
   "id": "b5bf581c",
   "metadata": {},
   "outputs": [],
   "source": [
    "import numpy as np\n",
    "import matplotlib.pyplot as plt\n",
    "from sklearn.metrics import mean_squared_error\n",
    "\n",
    "n = 100\n",
    "bootstraps = 1000\n",
    "\n",
    "predictions = np.random.rand(bootstraps, n) * 10 + 10\n",
    "# targets = np.random.rand(bootstraps, n) # wrong\n",
    "targets = np.random.rand(1, n) # correct"
   ]
  },
  {
   "cell_type": "code",
   "execution_count": 276,
   "id": "952ee45b",
   "metadata": {},
   "outputs": [
    {
     "name": "stdout",
     "output_type": "stream",
     "text": [
      "15.006949836719055\n",
      "15.006949836719057\n"
     ]
    }
   ],
   "source": [
    "print(np.mean(predictions))\n",
    "print(np.mean(np.mean(predictions, axis=0)))"
   ]
  },
  {
   "cell_type": "code",
   "execution_count": 277,
   "id": "602de673",
   "metadata": {},
   "outputs": [
    {
     "name": "stdout",
     "output_type": "stream",
     "text": [
      "The MSE for targets and predictions: 210.6763\n",
      "The bias: 210.6636\n",
      "The variance: 0.0081\n"
     ]
    }
   ],
   "source": [
    "# Method of averaging over all samples first\n",
    "mean_samples_predictions = np.mean(predictions, axis=0) # mean of each prediction index over all samples\n",
    "targets = np.ravel(targets)\n",
    "\n",
    "mse = mean_squared_error(targets, mean_samples_predictions)\n",
    "bias = np.mean((targets - np.mean(mean_samples_predictions))**2)\n",
    "variance = np.mean((mean_samples_predictions - np.mean(mean_samples_predictions))**2)\n",
    "\n",
    "print(f\"The MSE for targets and predictions: {mse:.4f}\")\n",
    "print(f\"The bias: {bias:.4f}\")\n",
    "print(f\"The variance: {variance:.4f}\")"
   ]
  },
  {
   "cell_type": "code",
   "execution_count": 278,
   "id": "87d894d9",
   "metadata": {},
   "outputs": [
    {
     "name": "stdout",
     "output_type": "stream",
     "text": [
      "The MSE for targets and predictions: 219.0463\n",
      "The bias: 210.6636\n",
      "The variance: 0.0081\n"
     ]
    }
   ],
   "source": [
    "# Method of calculating values for each sample before taking averages\n",
    "sq_error_pred_targ = (predictions - targets)**2 # squared errors of corresponding predictions and targets for each bootstrap sample\n",
    "mean_samples_sq_error = np.mean(sq_error_pred_targ, axis=0) # average of the error for each datapoint across all samples\n",
    "mse = np.sum(mean_samples_sq_error)/n\n",
    "\n",
    "y = np.ravel(targets)\n",
    "y_tilde = np.mean(predictions, axis=0)\n",
    "\n",
    "bias = np.mean((y - np.mean(y_tilde))**2)\n",
    "variance = np.mean((y_tilde - np.mean(y_tilde))**2)\n",
    "#variance = np.mean((predictions - np.mean(predictions))**2)\n",
    "\n",
    "print(f\"The MSE for targets and predictions: {mse:.4f}\")\n",
    "print(f\"The bias: {bias:.4f}\")\n",
    "print(f\"The variance: {variance:.4f}\")"
   ]
  },
  {
   "cell_type": "markdown",
   "id": "bccf92da",
   "metadata": {},
   "source": [
    "There is something very weird going on with my variance estimates and I can't figure it out.."
   ]
  },
  {
   "cell_type": "markdown",
   "id": "6e264999",
   "metadata": {},
   "source": [
    "**b)** Change the prediction values in some way to increase the bias while decreasing the variance.\n"
   ]
  },
  {
   "cell_type": "markdown",
   "id": "637c0147",
   "metadata": {},
   "source": [
    "\n",
    "**c)** Change the prediction values in some way to increase the variance while decreasing the bias.\n"
   ]
  },
  {
   "cell_type": "markdown",
   "id": "8da63362",
   "metadata": {},
   "source": [
    "**d)** Perform a bias-variance analysis of a polynomial OLS model fit to a one-dimensional function by computing and plotting the bias and variances values as a function of the polynomial degree of your model.\n"
   ]
  },
  {
   "cell_type": "code",
   "execution_count": 64,
   "id": "dd5855e4",
   "metadata": {},
   "outputs": [],
   "source": [
    "import numpy as np\n",
    "import matplotlib.pyplot as plt\n",
    "from sklearn.preprocessing import (\n",
    "    PolynomialFeatures,\n",
    ")  # use the fit_transform method of the created object!\n",
    "from sklearn.linear_model import LinearRegression\n",
    "from sklearn.metrics import mean_squared_error\n",
    "from sklearn.model_selection import train_test_split\n",
    "from sklearn.utils import resample"
   ]
  },
  {
   "cell_type": "code",
   "execution_count": 68,
   "id": "7e35fa37",
   "metadata": {},
   "outputs": [
    {
     "data": {
      "image/png": "[encoded data removed]",
      "text/plain": [
       "<Figure size 640x480 with 1 Axes>"
      ]
     },
     "metadata": {},
     "output_type": "display_data"
    }
   ],
   "source": [
    "n = 100\n",
    "bootstraps = 100\n",
    "\n",
    "x = np.linspace(-3, 3, n)\n",
    "y = np.exp(-(x**2)) + 1.5*np.exp(-(x - 2)**2) + np.random.normal(0, 0.1, n)\n",
    "\n",
    "x = x.reshape(-1,1)\n",
    "y = y.reshape(-1,1)\n",
    "\n",
    "max_degree = 15\n",
    "poly_degrees = np.arange(1, max_degree + 1, 1)\n",
    "\n",
    "biases = np.zeros(max_degree)\n",
    "variances = np.zeros(max_degree)\n",
    "MSEs = np.zeros(max_degree)\n",
    "\n",
    "x_train, x_test, y_train, y_test = train_test_split(x, y, test_size=0.2)\n",
    "\n",
    "for degree in range(len(poly_degrees)):\n",
    "    poly_features = PolynomialFeatures(poly_degrees[degree], include_bias=True)\n",
    "    X_train = poly_features.fit_transform(x_train)\n",
    "    X_test = poly_features.transform(x_test)\n",
    "    \n",
    "    # predictions are later filled with predictions made from X_test (feature matrix), constructed from x_test, \n",
    "    # so got to have same length\n",
    "    predictions = np.zeros([bootstraps, len(x_test)])\n",
    "\n",
    "    for b in range(bootstraps):\n",
    "        # For each bootstrap sample of X_train and Y_train, we train model, predict on X_test\n",
    "        # Later comparing against the un-touched y_test\n",
    "        #\n",
    "        X_train_resampled, y_train_resampled = resample(X_train, y_train)\n",
    "\n",
    "        model = LinearRegression().fit(X_train_resampled, y_train_resampled)\n",
    "        predictions[b,:] = model.predict(X_test).ravel()\n",
    "\n",
    "    # We take the true values or target, as the un-tough values in the y_test split\n",
    "    # The predicted y values, lives in the predictions matrix, where each row is a sample of values,\n",
    "    # and each column corresponding to a one y point across bootstrap samples \n",
    "    biases[degree] = np.mean((y_test.T - np.mean(predictions, axis=0))**2)\n",
    "\n",
    "    # Var(prediction) is the mean of the flatend matrix, over all samples\n",
    "    variances[degree] = np.mean((predictions - np.mean(predictions, axis=0))**2)\n",
    "\n",
    "    # For the MSE, we take difference of each y point per bootstrap sample, making y_test a row vector\n",
    "    # then squaring, before taking the mean over the flattened matrix\n",
    "    \n",
    "    MSEs[degree] = np.mean(np.mean((predictions - y_test.T)**2, axis=1), axis=0)\n",
    "\n",
    "plt.rcParams.update({\n",
    "    'text.usetex': False,           # Use mathtext instead of full LaTeX\n",
    "    'font.family': 'serif',\n",
    "    'font.size': 13,\n",
    "    'axes.titlesize': 13,\n",
    "    'axes.labelsize': 13,\n",
    "    'xtick.labelsize': 13,\n",
    "    'ytick.labelsize': 13,\n",
    "    'legend.fontsize': 12,\n",
    "})\n",
    "\n",
    "plt.plot(poly_degrees, biases, 'o-', label=\"Bias\", alpha=1.0)\n",
    "plt.plot(poly_degrees, variances, 'o-', label=\"Variance\", alpha=1.0)\n",
    "plt.plot(poly_degrees, MSEs, 'o-', label=\"MSE\", alpha=1.0)\n",
    "#plt.title(f\"Bias-variance tradeoff, for {n} data points and {bootstraps} bootstraps\")\n",
    "plt.xlabel(\"Polynomial degree\")\n",
    "plt.ylabel(\"Error\")\n",
    "plt.legend(loc=\"upper center\")\n",
    "plt.savefig(\"bias_var_tradeoff.pdf\", bbox_inches=\"tight\")\n",
    "plt.show()\n",
    "plt.close()"
   ]
  },
  {
   "cell_type": "markdown",
   "id": "253b8461",
   "metadata": {},
   "source": [
    "**e)** Discuss the bias-variance trade-off as function of your model complexity (the degree of the polynomial).\n"
   ]
  },
  {
   "cell_type": "markdown",
   "id": "69eb7087",
   "metadata": {},
   "source": [
    "<u>**Answer:**</u> There is something off here with the bias or MSE, but it seem to be correct in the code which corresponds to the expressions above. The bias + Var should be close to MSE."
   ]
  },
  {
   "cell_type": "markdown",
   "id": "f0864557",
   "metadata": {},
   "source": [
    "\n",
    "**f)** Compute and discuss the bias and variance as function of the number of data points (choose a suitable polynomial degree to show something interesting).\n"
   ]
  },
  {
   "cell_type": "code",
   "execution_count": 90,
   "id": "d94ede17",
   "metadata": {},
   "outputs": [
    {
     "ename": "IndentationError",
     "evalue": "expected an indented block after 'for' statement on line 28 (3118860759.py, line 30)",
     "output_type": "error",
     "traceback": [
      "\u001b[1;36m  Cell \u001b[1;32mIn[90], line 30\u001b[1;36m\u001b[0m\n\u001b[1;33m    for b in range(bootstraps):\u001b[0m\n\u001b[1;37m    ^\u001b[0m\n\u001b[1;31mIndentationError\u001b[0m\u001b[1;31m:\u001b[0m expected an indented block after 'for' statement on line 28\n"
     ]
    }
   ],
   "source": [
    "poly_degree = 5\n",
    "\n",
    "n = 100\n",
    "ns = np.arange(10, n, 10)\n",
    "\n",
    "bootstraps = 100\n",
    "              \n",
    "x = np.linspace(-3, 3, n)\n",
    "y = np.exp(-(x**2)) + 1.5*np.exp(-(x - 2)**2) + np.random.normal(0, 0.2, n)\n",
    "\n",
    "x = x.reshape(-1,1)\n",
    "y = y.reshape(-1,1)\n",
    "\n",
    "biases = np.zeros(max_degree)\n",
    "variances = np.zeros(max_degree)\n",
    "MSEs = np.zeros(max_degree)\n",
    "\n",
    "x_train, x_test, y_train, y_test = train_test_split(x, y, test_size=0.2)\n",
    "\n",
    "poly_features = PolynomialFeatures(poly_degrees[poly_degree], include_bias=True)\n",
    "X_train = poly_features.fit_transform(x_train)\n",
    "X_test = poly_features.transform(x_test)\n",
    "    \n",
    "# predictions are later filled with predictions made from X_test (feature matrix), constructed from x_test, \n",
    "# so got to have same length\n",
    "predictions = np.zeros([bootstraps, len(x_test)])\n",
    "\n",
    "for i in range(len(ns)):\n",
    "\n",
    "for b in range(bootstraps):\n",
    "    # For each bootstrap sample of X_train and Y_train, we train model, predict on X_test\n",
    "    # Later comparing against the un-touched y_test\n",
    "    X_train_resampled, y_train_resampled = resample(X_train, y_train)\n",
    "\n",
    "    model = LinearRegression().fit(X_train_resampled, y_train_resampled)\n",
    "    predictions[b,:] = model.predict(X_test).ravel()\n",
    "\n",
    "# We take the true values or target, as the un-tough values in the y_test split\n",
    "# The predicted y values, lives in the predictions matrix, where each row is a sample of values,\n",
    "# and each column corresponding to a one y point across bootstrap samples \n",
    "biases[degree] = np.mean((y_test - np.mean(predictions, axis=0))**2)\n",
    "\n",
    "# Var(prediction) is the mean of the flatend matrix, over all samples\n",
    "variances[degree] = np.mean((predictions - np.mean(predictions, axis=0))**2)\n",
    "\n",
    "# For the MSE, we take difference of each y point per bootstrap sample, making y_test a row vector\n",
    "# then squaring, before taking the mean over the flattened matrix\n",
    "\n",
    "MSEs[degree] = np.mean(np.mean((predictions - y_test.T)**2, axis=0), axis=0)\n",
    "\n",
    "plt.plot(biases, 'o-', label=\"Bias\")\n",
    "plt.plot(variances, 'o-', label=\"Variance\")\n",
    "plt.plot(MSEs, 'o-', label=\"MSE\")\n",
    "plt.title(f\"Bias-variance tradeoff, for {n} data points and {bootstraps} bootstraps\")\n",
    "plt.xlabel(\"\")\n",
    "plt.legend()\n",
    "plt.show()\n",
    "plt.close()"
   ]
  },
  {
   "cell_type": "markdown",
   "id": "b839e819",
   "metadata": {},
   "source": [
    "Work in progress.."
   ]
  },
  {
   "cell_type": "markdown",
   "id": "46250fbc",
   "metadata": {},
   "source": [
    "## Exercise 5: Interpretation of scaling and metrics\n"
   ]
  },
  {
   "cell_type": "markdown",
   "id": "5af53055",
   "metadata": {},
   "source": [
    "In this course, we often ask you to scale data and compute various metrics. Although these practices are \"standard\" in the field, we will require you to demonstrate an understanding of _why_ you need to scale data and use these metrics. Both so that you can make better arguements about your results, and so that you will hopefully make fewer mistakes.\n",
    "\n",
    "First, a few reminders: In this course you should always scale the columns of the feature matrix, and sometimes scale the target data, when it is worth the effort. By scaling, we mean subtracting the mean and dividing by the standard deviation, though there are many other ways to scale data. When scaling either the feature matrix or the target data, the intercept becomes a bit harder to implement and understand, so take care.\n",
    "\n",
    "Briefly answer the following:\n",
    "\n",
    "**a)** Why do we scale data?\n",
    "\n",
    "**b)** Why does the OLS method give practically equivelent models on scaled and unscaled data?\n",
    "\n",
    "**c)** Why does the Ridge method **not** give practically equivelent models on scaled and unscaled data? Why do we only consider the model on scaled data correct?\n",
    "\n",
    "**d)** Why do we say that the Ridge method gives a biased model?\n",
    "\n",
    "**e)** Is the MSE of the OLS method affected by scaling of the feature matrix? Is it affected by scaling of the target data?\n",
    "\n",
    "**f)** Read about the R2 score, a metric we will ask you to use a lot later in the course. Is the R2 score of the OLS method affected by scaling of the feature matrix? Is it affected by scaling of the target data?\n",
    "\n",
    "**g)** Give interpretations of the following R2 scores: 0, 0.5, 1.\n",
    "\n",
    "**h)** What is an advantage of the R2 score over the MSE?\n"
   ]
  },
  {
   "cell_type": "markdown",
   "id": "c6b9a6f7",
   "metadata": {},
   "source": [
    "<u>Answers:</u>\n",
    "**a)** We scale data so that features with large numerical value won't override the other features. Also, the unit of the feature might play in on the fit, for instance pounds vs. kg."
   ]
  }
 ],
 "metadata": {
  "kernelspec": {
   "display_name": "base",
   "language": "python",
   "name": "python3"
  },
  "language_info": {
   "codemirror_mode": {
    "name": "ipython",
    "version": 3
   },
   "file_extension": ".py",
   "mimetype": "text/x-python",
   "name": "python",
   "nbconvert_exporter": "python",
   "pygments_lexer": "ipython3",
   "version": "3.13.5"
  }
 },
 "nbformat": 4,
 "nbformat_minor": 5
}
