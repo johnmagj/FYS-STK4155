{
 "cells": [
  {
   "cell_type": "markdown",
   "id": "4b4c06bc",
   "metadata": {},
   "source": [
    "<!-- HTML file automatically generated from DocOnce source (https://github.com/doconce/doconce/)\n",
    "doconce format html exercisesweek41.do.txt  -->\n",
    "<!-- dom:TITLE: Exercises week 41 -->\n"
   ]
  },
  {
   "cell_type": "markdown",
   "id": "bcb25e64",
   "metadata": {},
   "source": [
    "# Exercises week 41\n",
    "\n",
    "**October 6-10, 2025**\n",
    "\n",
    "Date: **Deadline is Friday October 10 at midnight**\n"
   ]
  },
  {
   "cell_type": "markdown",
   "id": "bb01f126",
   "metadata": {},
   "source": [
    "# Overarching aims of the exercises this week\n",
    "\n",
    "This week, you will implement the entire feed-forward pass of a neural network! Next week you will compute the gradient of the network by implementing back-propagation manually, and by using autograd which does back-propagation for you (much easier!). Next week, you will also use the gradient to optimize the network with a gradient method! However, there is an optional exercise this week to get started on training the network and getting good results!\n",
    "\n",
    "We recommend that you do the exercises this week by editing and running this notebook file, as it includes some checks along the way that you have implemented the pieces of the feed-forward pass correctly, and running small parts of the code at a time will be important for understanding the methods.\n",
    "\n",
    "If you have trouble running a notebook, you can run this notebook in google colab instead (https://colab.research.google.com/drive/1zKibVQf-iAYaAn2-GlKfgRjHtLnPlBX4#offline=true&sandboxMode=true), an updated link will be provided on the course discord (you can also send an email to k.h.fredly@fys.uio.no if you encounter any trouble), though we recommend that you set up VSCode and your python environment to run code like this locally.\n",
    "\n",
    "First, here are some functions you are going to need, don't change this cell. If you are unable to import autograd, just swap in normal numpy until you want to do the final optional exercise.\n"
   ]
  },
  {
   "cell_type": "code",
   "execution_count": 1,
   "id": "c6f61b09",
   "metadata": {},
   "outputs": [],
   "source": [
    "import autograd.numpy as np  # We need to use this numpy wrapper to make automatic differentiation work later\n",
    "from sklearn import datasets\n",
    "import matplotlib.pyplot as plt\n",
    "from sklearn.metrics import accuracy_score\n",
    "\n",
    "\n",
    "# Defining some activation functions\n",
    "def ReLU(z):\n",
    "    return np.where(z > 0, z, 0)\n",
    "\n",
    "\n",
    "def sigmoid(z):\n",
    "    return 1 / (1 + np.exp(-z))\n",
    "\n",
    "\n",
    "def softmax(z):\n",
    "    \"\"\"Compute softmax values for each set of scores in the rows of the matrix z.\n",
    "    Used with batched input data.\"\"\"\n",
    "    e_z = np.exp(z - np.max(z, axis=0))\n",
    "    return e_z / np.sum(e_z, axis=1)[:, np.newaxis]\n",
    "\n",
    "\n",
    "def softmax_vec(z):\n",
    "    \"\"\"Compute softmax values for each set of scores in the vector z.\n",
    "    Use this function when you use the activation function on one vector at a time\"\"\"\n",
    "    e_z = np.exp(z - np.max(z))\n",
    "    return e_z / np.sum(e_z)"
   ]
  },
  {
   "cell_type": "markdown",
   "id": "6248ec53",
   "metadata": {},
   "source": [
    "# Exercise 1\n",
    "\n",
    "In this exercise you will compute the activation of the first layer. You only need to change the code in the cells right below an exercise, the rest works out of the box. Feel free to make changes and see how stuff works though!\n"
   ]
  },
  {
   "cell_type": "code",
   "execution_count": 130,
   "id": "37f30740",
   "metadata": {},
   "outputs": [],
   "source": [
    "np.random.seed(2024)\n",
    "\n",
    "x = np.random.randn(2, 1)  # network input. This is a single input with two features\n",
    "W1 = np.random.randn(4, 2)  # first layer weights"
   ]
  },
  {
   "cell_type": "markdown",
   "id": "4ed2cf3d",
   "metadata": {},
   "source": [
    "**a)** Given the shape of the first layer weight matrix, what is the input shape of the neural network? What is the output shape of the first layer?\n"
   ]
  },
  {
   "cell_type": "markdown",
   "id": "9851e914",
   "metadata": {},
   "source": [
    "<u>**Answer:**</u> Given the shape of $\\verb|W1|$ being $(4, 2)$, the most natural would be that $\\verb|x|$ has the shape $(2, 1)$. With $\\boldsymbol{x}$ being a column vector, $\\boldsymbol{W}_1 \\boldsymbol{x}$ would give an coulumn vector with shape $(4, 1)$ as output vector for the first layer."
   ]
  },
  {
   "cell_type": "markdown",
   "id": "edf7217b",
   "metadata": {},
   "source": [
    "**b)** Define the bias of the first layer, `b1`with the correct shape. (Run the next cell right after the previous to get the random generated values to line up with the test solution below)\n"
   ]
  },
  {
   "cell_type": "code",
   "execution_count": 131,
   "id": "2129c19f",
   "metadata": {},
   "outputs": [],
   "source": [
    "b1 = np.random.randn(4, 1)"
   ]
  },
  {
   "cell_type": "markdown",
   "id": "09e8d453",
   "metadata": {},
   "source": [
    "**c)** Compute the intermediary `z1` for the first layer\n"
   ]
  },
  {
   "cell_type": "code",
   "execution_count": 132,
   "id": "6837119b",
   "metadata": {},
   "outputs": [],
   "source": [
    "z1 = W1 @ x + b1"
   ]
  },
  {
   "cell_type": "markdown",
   "id": "6f71374e",
   "metadata": {},
   "source": [
    "**d)** Compute the activation `a1` for the first layer using the ReLU activation function defined earlier.\n"
   ]
  },
  {
   "cell_type": "code",
   "execution_count": 133,
   "id": "8d41ed19",
   "metadata": {},
   "outputs": [],
   "source": [
    "a1 = ReLU(z1)"
   ]
  },
  {
   "cell_type": "code",
   "execution_count": 134,
   "id": "00f14969",
   "metadata": {},
   "outputs": [
    {
     "name": "stdout",
     "output_type": "stream",
     "text": [
      "[[0.60610368]\n",
      " [4.0076268 ]\n",
      " [0.        ]\n",
      " [0.56469864]]\n"
     ]
    }
   ],
   "source": [
    "print(a1)"
   ]
  },
  {
   "cell_type": "markdown",
   "id": "088710c0",
   "metadata": {},
   "source": [
    "Confirm that you got the correct activation with the test below. Make sure that you define `b1` with the randn function right after you define `W1`.\n"
   ]
  },
  {
   "cell_type": "code",
   "execution_count": 135,
   "id": "4d2f54b4",
   "metadata": {},
   "outputs": [
    {
     "name": "stdout",
     "output_type": "stream",
     "text": [
      "True\n"
     ]
    }
   ],
   "source": [
    "sol1 = np.array([0.60610368, 4.0076268, 0.0, 0.56469864])\n",
    "\n",
    "print(np.allclose(a1.ravel(), sol1))"
   ]
  },
  {
   "cell_type": "markdown",
   "id": "7fb0cf46",
   "metadata": {},
   "source": [
    "# Exercise 2\n",
    "\n",
    "Now we will add a layer to the network with an output of length 8 and ReLU activation.\n",
    "\n",
    "**a)** What is the input of the second layer? What is its shape?\n",
    "\n",
    "**b)** Define the weight and bias of the second layer with the right shapes.\n"
   ]
  },
  {
   "cell_type": "markdown",
   "id": "ac6de3ce",
   "metadata": {},
   "source": [
    "<u>**Answer:**</u> With an output of length $8$ for the second layer (shape $(8, 1)$), and the input coming from the output of the first layer ($\\boldsymbol{x}_2 = \\boldsymbol{a}_1$, shape $(4, 1)$), the shape of $\\boldsymbol{W}_2$ and $\\boldsymbol{b}_2$ have to change accordingly. So, for the second layer the input shape is $(4, 1)$ meaning $\\boldsymbol{W}_2$ must be $(8, 4)$ and $\\boldsymbol{b}_2$ must have shape $(8, 1)$. We check the shapes for, $\\boldsymbol{W}_2 \\boldsymbol{a}_1 + \\boldsymbol{b}_2$: $(8, 4)(4, 1) + (8, 1) = (8, 1)$, which is in agreement "
   ]
  },
  {
   "cell_type": "code",
   "execution_count": 8,
   "id": "00063acf",
   "metadata": {},
   "outputs": [],
   "source": [
    "W2 = np.random.randn(8, 4)\n",
    "b2 = np.random.randn(8, 1)"
   ]
  },
  {
   "cell_type": "markdown",
   "id": "5bd7d84b",
   "metadata": {},
   "source": [
    "**c)** Compute the intermediary `z2` and activation `a2` for the second layer.\n"
   ]
  },
  {
   "cell_type": "code",
   "execution_count": 9,
   "id": "2fd0383d",
   "metadata": {},
   "outputs": [],
   "source": [
    "z2 = W2 @ a1 + b2\n",
    "a2 = ReLU(z2)"
   ]
  },
  {
   "cell_type": "markdown",
   "id": "1b5daae5",
   "metadata": {},
   "source": [
    "Confirm that you got the correct activation shape with the test below.\n"
   ]
  },
  {
   "cell_type": "code",
   "execution_count": 10,
   "id": "f7f2f8a1",
   "metadata": {},
   "outputs": [
    {
     "name": "stdout",
     "output_type": "stream",
     "text": [
      "True\n"
     ]
    }
   ],
   "source": [
    "print(\n",
    "    np.allclose(np.exp(len(a2)), 2980.9579870417283)\n",
    ")  # This should evaluate to True if a2 has the correct shape :)"
   ]
  },
  {
   "cell_type": "markdown",
   "id": "3759620d",
   "metadata": {},
   "source": [
    "# Exercise 3\n",
    "\n",
    "We often want our neural networks to have many layers of varying sizes. To avoid writing very long and error-prone code where we explicitly define and evaluate each layer we should keep all our layers in a single variable which is easy to create and use.\n",
    "\n",
    "**a)** Complete the function below so that it returns a list `layers` of weight and bias tuples `(W, b)` for each layer, in order, with the correct shapes that we can use later as our network parameters.\n"
   ]
  },
  {
   "cell_type": "code",
   "execution_count": 11,
   "id": "c58f10f9",
   "metadata": {},
   "outputs": [],
   "source": [
    "def create_layers(network_input_size, layer_output_sizes):\n",
    "    layers = []\n",
    "\n",
    "    i_size = network_input_size\n",
    "    for layer_output_size in layer_output_sizes:\n",
    "        W = np.random.randn(layer_output_size, i_size)\n",
    "        b = np.random.randn(layer_output_size, 1)\n",
    "        layers.append((W, b))\n",
    "\n",
    "        i_size = layer_output_size\n",
    "    return layers"
   ]
  },
  {
   "cell_type": "markdown",
   "id": "bdc0cda2",
   "metadata": {},
   "source": [
    "**b)** Comple the function below so that it evaluates the intermediary `z` and activation `a` for each layer, with ReLU actication, and returns the final activation `a`. This is the complete feed-forward pass, a full neural network!\n"
   ]
  },
  {
   "cell_type": "code",
   "execution_count": 12,
   "id": "5262df05",
   "metadata": {},
   "outputs": [],
   "source": [
    "def feed_forward_all_relu(layers, input):\n",
    "    x = np.random.randn(input, 1)\n",
    "    for W, b in layers:\n",
    "        z = W @ x + b\n",
    "        a = ReLU(z)\n",
    "        x = a   # Update x so that a becomes input for next layer\n",
    "    return a"
   ]
  },
  {
   "cell_type": "markdown",
   "id": "245adbcb",
   "metadata": {},
   "source": [
    "**c)** Create a network with input size 8 and layers with output sizes 10, 16, 6, 2. Evaluate it and make sure that you get the correct size vectors along the way.\n"
   ]
  },
  {
   "cell_type": "code",
   "execution_count": 13,
   "id": "89a8f70d",
   "metadata": {},
   "outputs": [
    {
     "name": "stdout",
     "output_type": "stream",
     "text": [
      "[[15.73333768]\n",
      " [ 0.        ]]\n"
     ]
    }
   ],
   "source": [
    "input_size = 8\n",
    "layer_output_sizes = [10, 16, 6, 2]\n",
    "\n",
    "x = np.random.randn(input_size, 1)\n",
    "layers = create_layers(input_size, layer_output_sizes)\n",
    "predict = feed_forward_all_relu(layers, input_size)\n",
    "print(predict)"
   ]
  },
  {
   "cell_type": "markdown",
   "id": "0da7fd52",
   "metadata": {},
   "source": [
    "**d)** Why is a neural network with no activation functions mathematically equivelent to(can be reduced to) a neural network with only one layer?\n"
   ]
  },
  {
   "cell_type": "markdown",
   "id": "c60bf5eb",
   "metadata": {},
   "source": [
    "<u>**Answer:**</u> If $\\boldsymbol{z}_0$ is the output from the first layer $i=0$, $\\boldsymbol{z}_0 = \\boldsymbol{W}_0 \\boldsymbol{x}_0 + \\boldsymbol{b}_0$, then the output from the next layer would be, $\\boldsymbol{z}_1 = \\boldsymbol{W}_1 \\boldsymbol{z}_0 + \\boldsymbol{b}_1$, and the next $\\boldsymbol{z}_2 = \\boldsymbol{W}_2 \\boldsymbol{z}_1 + \\boldsymbol{b}_2$ and so on. For the second layer we can write: $\\boldsymbol{z}_1 = \\boldsymbol{W}_1(\\boldsymbol{W}_0 \\boldsymbol{x}_0 + \\boldsymbol{b}_0) + \\boldsymbol{b}_1 = \\boldsymbol{W}_1 \\boldsymbol{W}_0 \\boldsymbol{x}_0 + (\\boldsymbol{W}_1 \\boldsymbol{b}_0 + \\boldsymbol{b}_1)$. And the third: $\\boldsymbol{z}_2 = \\boldsymbol{W}_2 \\boldsymbol{W}_1 \\boldsymbol{W}_0 \\boldsymbol{x}_0 + (\\boldsymbol{W}_2(\\boldsymbol{W}_1 \\boldsymbol{b}_0 + \\boldsymbol{b}_1) + \\boldsymbol{b}_2)$. This would apply for each layer, and since all the weights for each layer could be combined an rewritten, and the same for the bias terms, we have: $\\boldsymbol{z} = \\boldsymbol{W} \\boldsymbol{x}_0 + \\boldsymbol{b}$, the equvivelent to a one layer neural network."
   ]
  },
  {
   "cell_type": "markdown",
   "id": "306d8b7c",
   "metadata": {},
   "source": [
    "# Exercise 4 - Custom activation for each layer\n"
   ]
  },
  {
   "cell_type": "markdown",
   "id": "221c7b6c",
   "metadata": {},
   "source": [
    "So far, every layer has used the same activation, ReLU. We often want to use other types of activation however, so we need to update our code to support multiple types of activation functions. Make sure that you have completed every previous exercise before trying this one.\n"
   ]
  },
  {
   "cell_type": "markdown",
   "id": "10896d06",
   "metadata": {},
   "source": [
    "**a)** Complete the `feed_forward` function which accepts a list of activation functions as an argument, and which evaluates these activation functions at each layer.\n"
   ]
  },
  {
   "cell_type": "code",
   "execution_count": 14,
   "id": "de062369",
   "metadata": {},
   "outputs": [],
   "source": [
    "def feed_forward(input, layers, activation_funcs):\n",
    "    a = input\n",
    "    \n",
    "    for (W, b), activation_func in zip(layers, activation_funcs):\n",
    "        z = W @ input + b\n",
    "        a = activation_func(z)\n",
    "        input = a\n",
    "    return a"
   ]
  },
  {
   "cell_type": "markdown",
   "id": "8f7df363",
   "metadata": {},
   "source": [
    "**b)** You are now given a list with three activation functions, two ReLU and one sigmoid. (Don't call them yet! you can make a list with function names as elements, and then call these elements of the list later. If you add other functions than the ones defined at the start of the notebook, make sure everything is defined using autograd's numpy wrapper, like above, since we want to use automatic differentiation on all of these functions later.)\n",
    "\n",
    "Evaluate a network with three layers and these activation functions.\n"
   ]
  },
  {
   "cell_type": "code",
   "execution_count": 73,
   "id": "301b46dc",
   "metadata": {},
   "outputs": [
    {
     "data": {
      "text/plain": [
       "array([[9.99999996e-01],\n",
       "       [2.26852753e-08],\n",
       "       [9.23492419e-22],\n",
       "       [5.32876418e-01],\n",
       "       [8.06300186e-09],\n",
       "       [1.04769358e-21]])"
      ]
     },
     "execution_count": 73,
     "metadata": {},
     "output_type": "execute_result"
    }
   ],
   "source": [
    "np.random.seed(2025)\n",
    "\n",
    "network_input_size = 8\n",
    "layer_output_sizes = [10, 16, 6]\n",
    "activation_funcs = [ReLU, ReLU, sigmoid]\n",
    "layers = create_layers(network_input_size, layer_output_sizes)\n",
    "\n",
    "x = np.random.randn(network_input_size, 1)\n",
    "feed_forward(x, layers, activation_funcs)"
   ]
  },
  {
   "cell_type": "markdown",
   "id": "9c914fd0",
   "metadata": {},
   "source": [
    "**c)** How does the output of the network change if you use sigmoid in the hidden layers and ReLU in the output layer?\n"
   ]
  },
  {
   "cell_type": "code",
   "execution_count": 76,
   "id": "642c71e8",
   "metadata": {},
   "outputs": [
    {
     "data": {
      "text/plain": [
       "array([[2.35191211],\n",
       "       [0.        ],\n",
       "       [0.        ],\n",
       "       [0.        ],\n",
       "       [0.        ],\n",
       "       [0.        ]])"
      ]
     },
     "execution_count": 76,
     "metadata": {},
     "output_type": "execute_result"
    }
   ],
   "source": [
    "np.random.seed(2025)\n",
    "\n",
    "network_input_size = 8\n",
    "layer_output_sizes = [10, 16, 6]\n",
    "activation_funcs = [sigmoid, sigmoid, ReLU]\n",
    "layers = create_layers(network_input_size, layer_output_sizes)\n",
    "\n",
    "x = np.random.randn(network_input_size, 1)\n",
    "feed_forward(x, layers, activation_funcs)"
   ]
  },
  {
   "cell_type": "markdown",
   "id": "4e80d22e",
   "metadata": {},
   "source": [
    "<u>**Answer:**</u> We see that we get a first element which is non zero, while the rest are zero, so quite different to the output above."
   ]
  },
  {
   "cell_type": "markdown",
   "id": "a8d6c425",
   "metadata": {},
   "source": [
    "# Exercise 5 - Processing multiple inputs at once\n"
   ]
  },
  {
   "cell_type": "markdown",
   "id": "0f4330a4",
   "metadata": {},
   "source": [
    "So far, the feed forward function has taken one input vector as an input. This vector then undergoes a linear transformation and then an element-wise non-linear operation for each layer. This approach of sending one vector in at a time is great for interpreting how the network transforms data with its linear and non-linear operations, but not the best for numerical efficiency. Now, we want to be able to send many inputs through the network at once. This will make the code a bit harder to understand, but it will make it faster, and more compact. It will be worth the trouble.\n",
    "\n",
    "To process multiple inputs at once, while still performing the same operations, you will only need to flip a couple things around.\n"
   ]
  },
  {
   "cell_type": "markdown",
   "id": "17023bb7",
   "metadata": {},
   "source": [
    "**a)** Complete the function `create_layers_batch` so that the weight matrix is the transpose of what it was when you only sent in one input at a time.\n"
   ]
  },
  {
   "cell_type": "code",
   "execution_count": 161,
   "id": "a241fd79",
   "metadata": {},
   "outputs": [],
   "source": [
    "def create_layers_batch(network_input_shape, layer_output_sizes):\n",
    "    # network_input_shape has shape (number of input vectors, features)\n",
    "    layers = []\n",
    "\n",
    "    i_shape = network_input_shape\n",
    "    for layer_output_size in layer_output_sizes:\n",
    "        W = np.random.randn(i_shape[1], layer_output_size)\n",
    "        b = np.random.randn(i_shape[0], layer_output_size)\n",
    "        layers.append((W, b))\n",
    "\n",
    "        i_shape = (i_shape[0], layer_output_size)\n",
    "    return layers"
   ]
  },
  {
   "cell_type": "markdown",
   "id": "a6349db6",
   "metadata": {},
   "source": [
    "**b)** Make a matrix of inputs with the shape (number of inputs, number of features), you choose the number of inputs and features per input. Then complete the function `feed_forward_batch` so that you can process this matrix of inputs with only one matrix multiplication and one broadcasted vector addition per layer. (Hint: You will only need to swap two variable around from your previous implementation, but remember to test that you get the same results for equivelent inputs!)"
   ]
  },
  {
   "cell_type": "code",
   "execution_count": 272,
   "id": "425f3bcc",
   "metadata": {},
   "outputs": [],
   "source": [
    "inputs = np.random.rand(1000, 4)\n",
    "\n",
    "def feed_forward_batch(inputs, layers, activation_funcs):\n",
    "    a = inputs\n",
    "    for (W, b), activation_func in zip(layers, activation_funcs):\n",
    "        print(np.shape(a))\n",
    "        print(np.shape(W))\n",
    "        print(np.shape(b))\n",
    "        z = a @ W + b\n",
    "        a = activation_func(z)\n",
    "    return a"
   ]
  },
  {
   "cell_type": "markdown",
   "id": "efd07b4e",
   "metadata": {},
   "source": [
    "**c)** Create and evaluate a neural network with 4 input features, and layers with output sizes 12, 10, 3 and activations ReLU, ReLU, softmax.\n"
   ]
  },
  {
   "cell_type": "code",
   "execution_count": 273,
   "id": "ce6fcc2f",
   "metadata": {},
   "outputs": [
    {
     "name": "stdout",
     "output_type": "stream",
     "text": [
      "(1000, 4)\n",
      "(4, 12)\n",
      "(1000, 12)\n",
      "(1000, 12)\n",
      "(12, 10)\n",
      "(1000, 10)\n",
      "(1000, 10)\n",
      "(10, 3)\n",
      "(1000, 3)\n"
     ]
    },
    {
     "data": {
      "text/plain": [
       "array([[6.68546387e-01, 3.01745217e-04, 3.31151867e-01],\n",
       "       [1.72784434e-03, 2.25862485e-09, 9.98272153e-01],\n",
       "       [5.61043374e-01, 9.95059922e-04, 4.37961566e-01],\n",
       "       ...,\n",
       "       [7.30324859e-01, 7.87050284e-16, 2.69675141e-01],\n",
       "       [2.07190046e-03, 5.30162732e-11, 9.97928099e-01],\n",
       "       [4.06272021e-02, 4.33462579e-06, 9.59368463e-01]], shape=(1000, 3))"
      ]
     },
     "execution_count": 273,
     "metadata": {},
     "output_type": "execute_result"
    }
   ],
   "source": [
    "network_input_size = (1000, 4) # (input vectors, features)\n",
    "layer_output_sizes = [12, 10, 3]\n",
    "activation_funcs = [ReLU, ReLU, softmax]\n",
    "layers = create_layers_batch(network_input_size, layer_output_sizes)\n",
    "\n",
    "inputs = np.random.randn(network_input_size[0], network_input_size[1])\n",
    "feed_forward_batch(inputs, layers, activation_funcs)"
   ]
  },
  {
   "cell_type": "code",
   "execution_count": 274,
   "id": "6ce10056",
   "metadata": {},
   "outputs": [
    {
     "name": "stdout",
     "output_type": "stream",
     "text": [
      "(1, 8)\n",
      "(8, 10)\n",
      "(1, 10)\n",
      "(1, 10)\n",
      "(10, 16)\n",
      "(1, 16)\n",
      "(1, 16)\n",
      "(16, 6)\n",
      "(1, 6)\n"
     ]
    },
    {
     "data": {
      "text/plain": [
       "array([[0.        , 0.        , 1.01305886, 0.        , 2.33425836,\n",
       "        0.        ]])"
      ]
     },
     "execution_count": 274,
     "metadata": {},
     "output_type": "execute_result"
    }
   ],
   "source": [
    "np.random.seed(2025)\n",
    "\n",
    "network_input_size = (1, 8) # (input vectors, features)\n",
    "layer_output_sizes = [10, 16, 6]\n",
    "activation_funcs = [sigmoid, sigmoid, ReLU]\n",
    "layers = create_layers_batch(network_input_size, layer_output_sizes)\n",
    "\n",
    "inputs = np.random.randn(network_input_size[0], network_input_size[1])\n",
    "feed_forward_batch(inputs, layers, activation_funcs)"
   ]
  },
  {
   "cell_type": "markdown",
   "id": "7a916dd8",
   "metadata": {},
   "source": [
    "<u>**Answer:**</u> Due to the way `np.random.randn(m, n)` fills the elements of the matrix with numbers (rows are filled first), we get different numbers for different places in the matrix of `W` in `create_layers_batch`, even if we use `np.random.seed`. We are therefore not able to reproduce the result from 4. c). But, when implementing `create_layers_batch` and `feed_forward_batch` to take input as (features, number of input vectors), just extending on the case of one input vector, it works since `W` and `b` does not change shape. See bellow."
   ]
  },
  {
   "cell_type": "code",
   "execution_count": 270,
   "id": "75a0b82b",
   "metadata": {},
   "outputs": [
    {
     "name": "stdout",
     "output_type": "stream",
     "text": [
      "(10, 8)\n",
      "(8, 1)\n",
      "(10, 1)\n",
      "(16, 10)\n",
      "(10, 1)\n",
      "(16, 1)\n",
      "(6, 16)\n",
      "(16, 1)\n",
      "(6, 1)\n"
     ]
    },
    {
     "data": {
      "text/plain": [
       "array([[2.35191211],\n",
       "       [0.        ],\n",
       "       [0.        ],\n",
       "       [0.        ],\n",
       "       [0.        ],\n",
       "       [0.        ]])"
      ]
     },
     "execution_count": 270,
     "metadata": {},
     "output_type": "execute_result"
    }
   ],
   "source": [
    "# Alternative approach as first interpret due to exercise text\n",
    "\n",
    "def create_layers_batch_alternative(network_input_shape, layer_output_sizes):\n",
    "    # network_input_shape is a matrix with shape (input features, number of input vectors)\n",
    "    layers = []\n",
    "\n",
    "    i_shape = network_input_shape\n",
    "    for layer_output_size in layer_output_sizes:\n",
    "        W = np.random.randn(layer_output_size, i_shape[0])\n",
    "        b = np.random.randn(layer_output_size, i_shape[1])\n",
    "        layers.append((W, b))\n",
    "\n",
    "        i_shape = (layer_output_size, i_shape[1])\n",
    "    return layers\n",
    "\n",
    "def feed_forward_batch_alternative(inputs, layers, activation_funcs):\n",
    "    a = inputs\n",
    "    for (W, b), activation_func in zip(layers, activation_funcs):\n",
    "        print(np.shape(W))\n",
    "        print(np.shape(a))\n",
    "        print(np.shape(b))\n",
    "        z = W @ a + b\n",
    "        a = activation_func(z)\n",
    "    return a\n",
    "\n",
    "np.random.seed(2025)\n",
    "\n",
    "network_input_size = (8, 1)\n",
    "layer_output_sizes = [10, 16, 6]\n",
    "activation_funcs = [sigmoid, sigmoid, ReLU]\n",
    "layers = create_layers_batch_alternative(network_input_size, layer_output_sizes)\n",
    "\n",
    "inputs = np.random.randn(network_input_size[0], network_input_size[1])\n",
    "feed_forward_batch_alternative(inputs, layers, activation_funcs)"
   ]
  },
  {
   "cell_type": "markdown",
   "id": "87999271",
   "metadata": {},
   "source": [
    "You should use this batched approach moving forward, as it will lead to much more compact code. However, remember that each input is still treated separately, and that you will need to keep in mind the transposed weight matrix and other details when implementing backpropagation.\n"
   ]
  },
  {
   "cell_type": "markdown",
   "id": "237eb782",
   "metadata": {},
   "source": [
    "# Exercise 6 - Predicting on real data\n"
   ]
  },
  {
   "cell_type": "markdown",
   "id": "54d5fde7",
   "metadata": {},
   "source": [
    "You will now evaluate your neural network on the iris data set (https://scikit-learn.org/1.5/auto_examples/datasets/plot_iris_dataset.html).\n",
    "\n",
    "This dataset contains data on 150 flowers of 3 different types which can be separated pretty well using the four features given for each flower, which includes the width and length of their leaves. You are will later train your network to actually make good predictions.\n"
   ]
  },
  {
   "cell_type": "code",
   "execution_count": 148,
   "id": "6bd4c148",
   "metadata": {},
   "outputs": [
    {
     "data": {
      "image/png": "[encoded data removed]",
      "text/plain": [
       "<Figure size 640x480 with 1 Axes>"
      ]
     },
     "metadata": {},
     "output_type": "display_data"
    }
   ],
   "source": [
    "iris = datasets.load_iris()\n",
    "\n",
    "_, ax = plt.subplots()\n",
    "scatter = ax.scatter(iris.data[:, 0], iris.data[:, 1], c=iris.target)\n",
    "ax.set(xlabel=iris.feature_names[0], ylabel=iris.feature_names[1])\n",
    "_ = ax.legend(\n",
    "    scatter.legend_elements()[0], iris.target_names, loc=\"lower right\", title=\"Classes\"\n",
    ")"
   ]
  },
  {
   "cell_type": "code",
   "execution_count": 275,
   "id": "ed3e2fc9",
   "metadata": {},
   "outputs": [],
   "source": [
    "inputs = iris.data\n",
    "\n",
    "# Since each prediction is a vector with a score for each of the three types of flowers,\n",
    "# we need to make each target a vector with a 1 for the correct flower and a 0 for the others.\n",
    "targets = np.zeros((len(iris.data), 3))\n",
    "for i, t in enumerate(iris.target):\n",
    "    targets[i, t] = 1\n",
    "\n",
    "\n",
    "def accuracy(predictions, targets):\n",
    "    one_hot_predictions = np.zeros(predictions.shape)\n",
    "\n",
    "    for i, prediction in enumerate(predictions):\n",
    "        one_hot_predictions[i, np.argmax(prediction)] = 1\n",
    "    return accuracy_score(one_hot_predictions, targets)"
   ]
  },
  {
   "cell_type": "markdown",
   "id": "0362c4a9",
   "metadata": {},
   "source": [
    "**a)** What should the input size for the network be with this dataset? What should the output size of the last layer be?\n"
   ]
  },
  {
   "cell_type": "markdown",
   "id": "30c8ad1e",
   "metadata": {},
   "source": [
    "<u>**Answer:**</u> For this dataset the intput size (shape) should be $(150, 4)$, meaning $150$ individual flowers, each with $4$ features. The output size (shape) of the last layer should be $(150, 3)$, to represent the three types of the flower for each of the $150$ samples. The point of the neural network is then to learn how the four features play into the type of a given flower."
   ]
  },
  {
   "cell_type": "markdown",
   "id": "bf62607e",
   "metadata": {},
   "source": [
    "**b)** Create a network with two hidden layers, the first with sigmoid activation and the last with softmax, the first layer should have 8 \"nodes\", the second has the number of nodes you found in exercise a). Softmax returns a \"probability distribution\", in the sense that the numbers in the output are positive and add up to 1 and, their magnitude are in some sense relative to their magnitude before going through the softmax function. Remember to use the batched version of the create_layers and feed forward functions.\n"
   ]
  },
  {
   "cell_type": "code",
   "execution_count": 276,
   "id": "5366d4ae",
   "metadata": {},
   "outputs": [
    {
     "name": "stdout",
     "output_type": "stream",
     "text": [
      "(150, 4)\n",
      "(4, 4)\n",
      "(150, 4)\n",
      "(150, 4)\n",
      "(4, 8)\n",
      "(150, 8)\n",
      "(150, 8)\n",
      "(8, 8)\n",
      "(150, 8)\n",
      "(150, 8)\n",
      "(8, 3)\n",
      "(150, 3)\n"
     ]
    },
    {
     "data": {
      "text/plain": [
       "array([[0.13233186, 0.17932095, 0.68834719],\n",
       "       [0.21372046, 0.5828543 , 0.20342524],\n",
       "       [0.61484192, 0.3030736 , 0.08208448],\n",
       "       [0.09572649, 0.6597406 , 0.24453291],\n",
       "       [0.19201961, 0.44175934, 0.36622104],\n",
       "       [0.14283155, 0.04819559, 0.80897286],\n",
       "       [0.07582679, 0.82461402, 0.09955919],\n",
       "       [0.1812941 , 0.78046301, 0.03824289],\n",
       "       [0.02795177, 0.21707664, 0.75497159],\n",
       "       [0.7253659 , 0.15738527, 0.11724883],\n",
       "       [0.16943501, 0.76766405, 0.06290094],\n",
       "       [0.32394345, 0.04983843, 0.62621812],\n",
       "       [0.2945827 , 0.32529593, 0.38012137],\n",
       "       [0.07841953, 0.86235033, 0.05923014],\n",
       "       [0.32858132, 0.22889898, 0.4425197 ],\n",
       "       [0.04879707, 0.15495335, 0.79624958],\n",
       "       [0.29114708, 0.23164958, 0.47720334],\n",
       "       [0.16954852, 0.33055188, 0.49989961],\n",
       "       [0.09807434, 0.04739543, 0.85453023],\n",
       "       [0.05129879, 0.15287305, 0.79582815],\n",
       "       [0.27376112, 0.07591971, 0.65031917],\n",
       "       [0.16814335, 0.15782979, 0.67402687],\n",
       "       [0.53854834, 0.33268973, 0.12876192],\n",
       "       [0.05122027, 0.14327581, 0.80550392],\n",
       "       [0.13334063, 0.63842506, 0.22823431],\n",
       "       [0.05674145, 0.84904149, 0.09421705],\n",
       "       [0.13338944, 0.17341013, 0.69320043],\n",
       "       [0.13473734, 0.20734375, 0.65791891],\n",
       "       [0.05778436, 0.07950162, 0.86271402],\n",
       "       [0.86059185, 0.04803534, 0.09137281],\n",
       "       [0.97860149, 0.01383395, 0.00756456],\n",
       "       [0.49344986, 0.45366116, 0.05288897],\n",
       "       [0.58953899, 0.16234042, 0.24812058],\n",
       "       [0.37353794, 0.39990874, 0.22655332],\n",
       "       [0.07767054, 0.15378224, 0.76854722],\n",
       "       [0.11150522, 0.79434692, 0.09414785],\n",
       "       [0.13957243, 0.0645124 , 0.79591517],\n",
       "       [0.31289857, 0.12230586, 0.56479557],\n",
       "       [0.13358481, 0.83831935, 0.02809584],\n",
       "       [0.14323427, 0.22137331, 0.63539241],\n",
       "       [0.6677216 , 0.24765469, 0.08462371],\n",
       "       [0.20780459, 0.31659435, 0.47560106],\n",
       "       [0.07323508, 0.2844476 , 0.64231732],\n",
       "       [0.11172771, 0.10206506, 0.78620723],\n",
       "       [0.24618104, 0.35182052, 0.40199844],\n",
       "       [0.02223256, 0.14657802, 0.83118942],\n",
       "       [0.1625126 , 0.27338868, 0.56409871],\n",
       "       [0.50866284, 0.05380686, 0.4375303 ],\n",
       "       [0.82592245, 0.14271201, 0.03136553],\n",
       "       [0.12447607, 0.42103066, 0.45449327],\n",
       "       [0.09841504, 0.19464953, 0.70693544],\n",
       "       [0.30046198, 0.17341649, 0.52612152],\n",
       "       [0.46147788, 0.26579912, 0.272723  ],\n",
       "       [0.08725744, 0.62794203, 0.28480052],\n",
       "       [0.23194717, 0.53632026, 0.23173257],\n",
       "       [0.16004584, 0.31859475, 0.52135941],\n",
       "       [0.1464319 , 0.09243036, 0.76113774],\n",
       "       [0.35541027, 0.43898428, 0.20560545],\n",
       "       [0.0353032 , 0.84216275, 0.12253405],\n",
       "       [0.10278497, 0.5299923 , 0.36722272],\n",
       "       [0.26723057, 0.45249486, 0.28027457],\n",
       "       [0.42527356, 0.27930202, 0.29542443],\n",
       "       [0.5783432 , 0.03770095, 0.38395585],\n",
       "       [0.01555504, 0.55646648, 0.42797848],\n",
       "       [0.12402609, 0.51402626, 0.36194765],\n",
       "       [0.38880224, 0.55161493, 0.05958283],\n",
       "       [0.30313737, 0.10366092, 0.59320171],\n",
       "       [0.33647083, 0.60195379, 0.06157538],\n",
       "       [0.00897855, 0.12210622, 0.86891523],\n",
       "       [0.22194686, 0.24195616, 0.53609698],\n",
       "       [0.22637981, 0.12246682, 0.65115337],\n",
       "       [0.90361372, 0.07190692, 0.02447936],\n",
       "       [0.00690991, 0.66121681, 0.33187328],\n",
       "       [0.28281775, 0.57308698, 0.14409527],\n",
       "       [0.1045031 , 0.11268518, 0.78281173],\n",
       "       [0.8030391 , 0.08185219, 0.11510871],\n",
       "       [0.80799786, 0.13461058, 0.05739156],\n",
       "       [0.16752857, 0.07659058, 0.75588085],\n",
       "       [0.36792823, 0.01876242, 0.61330935],\n",
       "       [0.33354458, 0.47758559, 0.18886983],\n",
       "       [0.25788346, 0.40474256, 0.33737398],\n",
       "       [0.02175015, 0.94797792, 0.03027193],\n",
       "       [0.21677598, 0.68629698, 0.09692704],\n",
       "       [0.03342428, 0.18482132, 0.7817544 ],\n",
       "       [0.01207778, 0.1600025 , 0.82791972],\n",
       "       [0.49079894, 0.34075957, 0.16844149],\n",
       "       [0.11693591, 0.60367995, 0.27938415],\n",
       "       [0.51339988, 0.33209431, 0.15450581],\n",
       "       [0.42085313, 0.37469761, 0.20444927],\n",
       "       [0.65302706, 0.04294397, 0.30402898],\n",
       "       [0.82684302, 0.12308253, 0.05007446],\n",
       "       [0.3925296 , 0.37504159, 0.23242881],\n",
       "       [0.61477038, 0.04685247, 0.33837714],\n",
       "       [0.35658021, 0.52389311, 0.11952668],\n",
       "       [0.28451263, 0.2547749 , 0.46071246],\n",
       "       [0.43498764, 0.43985187, 0.12516049],\n",
       "       [0.12584297, 0.09561241, 0.77854462],\n",
       "       [0.80155383, 0.04296889, 0.15547728],\n",
       "       [0.09315128, 0.85776761, 0.04908111],\n",
       "       [0.32431065, 0.22200771, 0.45368164],\n",
       "       [0.39685427, 0.22909077, 0.37405496],\n",
       "       [0.1615195 , 0.58051359, 0.2579669 ],\n",
       "       [0.7814752 , 0.16039136, 0.05813344],\n",
       "       [0.23387397, 0.08257868, 0.68354734],\n",
       "       [0.84092034, 0.09540698, 0.06367267],\n",
       "       [0.08929543, 0.25701464, 0.65368993],\n",
       "       [0.82728811, 0.10673902, 0.06597286],\n",
       "       [0.40016317, 0.14724025, 0.45259658],\n",
       "       [0.63581442, 0.07741928, 0.2867663 ],\n",
       "       [0.41052177, 0.1300608 , 0.45941743],\n",
       "       [0.08577219, 0.31870201, 0.59552581],\n",
       "       [0.06582613, 0.33450409, 0.59966978],\n",
       "       [0.4210562 , 0.07217811, 0.50676568],\n",
       "       [0.11002942, 0.84489821, 0.04507237],\n",
       "       [0.055495  , 0.76524108, 0.17926393],\n",
       "       [0.24794526, 0.29768006, 0.45437468],\n",
       "       [0.55107044, 0.34078524, 0.10814432],\n",
       "       [0.56119528, 0.3099712 , 0.12883352],\n",
       "       [0.22994572, 0.4517863 , 0.31826798],\n",
       "       [0.44573873, 0.17759819, 0.37666308],\n",
       "       [0.18676445, 0.14306661, 0.67016894],\n",
       "       [0.15124435, 0.53742332, 0.31133234],\n",
       "       [0.01639913, 0.28268266, 0.70091821],\n",
       "       [0.19865419, 0.44902209, 0.35232372],\n",
       "       [0.35608266, 0.07222195, 0.57169539],\n",
       "       [0.22362592, 0.2380925 , 0.53828158],\n",
       "       [0.33791826, 0.17781276, 0.48426898],\n",
       "       [0.52557675, 0.09478058, 0.37964267],\n",
       "       [0.12633246, 0.28526403, 0.58840351],\n",
       "       [0.26694234, 0.49750219, 0.23555547],\n",
       "       [0.07098761, 0.01526564, 0.91374674],\n",
       "       [0.08782353, 0.85322912, 0.05894735],\n",
       "       [0.04782379, 0.23583304, 0.71634317],\n",
       "       [0.45216056, 0.4217783 , 0.12606113],\n",
       "       [0.47375511, 0.33604423, 0.19020067],\n",
       "       [0.11541842, 0.71429749, 0.17028409],\n",
       "       [0.16004877, 0.36508955, 0.47486167],\n",
       "       [0.30569297, 0.032368  , 0.66193903],\n",
       "       [0.13598622, 0.16737849, 0.69663529],\n",
       "       [0.05500612, 0.04711648, 0.8978774 ],\n",
       "       [0.19718562, 0.36264591, 0.44016847],\n",
       "       [0.40769263, 0.53614396, 0.05616341],\n",
       "       [0.19315244, 0.78594561, 0.02090195],\n",
       "       [0.00974959, 0.82674699, 0.16350342],\n",
       "       [0.35627678, 0.33175345, 0.31196978],\n",
       "       [0.08213974, 0.24963661, 0.66822365],\n",
       "       [0.14368776, 0.17748631, 0.67882593],\n",
       "       [0.64144202, 0.2308535 , 0.12770448],\n",
       "       [0.14451681, 0.30002648, 0.55545672],\n",
       "       [0.52227976, 0.37405541, 0.10366483]])"
      ]
     },
     "execution_count": 276,
     "metadata": {},
     "output_type": "execute_result"
    }
   ],
   "source": [
    "inputs = iris.data\n",
    "np.random.seed(2025)\n",
    "network_input_shape = np.shape(inputs) # input from above, shape is (input vectors, features)\n",
    "layer_output_sizes = [4, 8, 8, 3]\n",
    "activation_funcs = [sigmoid, sigmoid, sigmoid, softmax]\n",
    "layers = create_layers_batch(network_input_shape, layer_output_sizes)\n",
    "\n",
    "feed_forward_batch(inputs, layers, activation_funcs)"
   ]
  },
  {
   "cell_type": "markdown",
   "id": "c528846f",
   "metadata": {},
   "source": [
    "**c)** Evaluate your model on the entire iris dataset! For later purposes, we will split the data into train and test sets, and compute gradients on smaller batches of the training data. But for now, evaluate the network on the whole thing at once.\n"
   ]
  },
  {
   "cell_type": "code",
   "execution_count": 277,
   "id": "6c783105",
   "metadata": {},
   "outputs": [
    {
     "name": "stdout",
     "output_type": "stream",
     "text": [
      "(150, 4)\n",
      "(4, 4)\n",
      "(150, 4)\n",
      "(150, 4)\n",
      "(4, 8)\n",
      "(150, 8)\n",
      "(150, 8)\n",
      "(8, 8)\n",
      "(150, 8)\n",
      "(150, 8)\n",
      "(8, 3)\n",
      "(150, 3)\n"
     ]
    }
   ],
   "source": [
    "predictions = feed_forward_batch(inputs, layers, activation_funcs)"
   ]
  },
  {
   "cell_type": "code",
   "execution_count": 278,
   "id": "c4b4c2ea",
   "metadata": {},
   "outputs": [
    {
     "data": {
      "text/plain": [
       "array([[0.13233186, 0.17932095, 0.68834719],\n",
       "       [0.21372046, 0.5828543 , 0.20342524],\n",
       "       [0.61484192, 0.3030736 , 0.08208448],\n",
       "       [0.09572649, 0.6597406 , 0.24453291],\n",
       "       [0.19201961, 0.44175934, 0.36622104],\n",
       "       [0.14283155, 0.04819559, 0.80897286],\n",
       "       [0.07582679, 0.82461402, 0.09955919],\n",
       "       [0.1812941 , 0.78046301, 0.03824289],\n",
       "       [0.02795177, 0.21707664, 0.75497159],\n",
       "       [0.7253659 , 0.15738527, 0.11724883],\n",
       "       [0.16943501, 0.76766405, 0.06290094],\n",
       "       [0.32394345, 0.04983843, 0.62621812],\n",
       "       [0.2945827 , 0.32529593, 0.38012137],\n",
       "       [0.07841953, 0.86235033, 0.05923014],\n",
       "       [0.32858132, 0.22889898, 0.4425197 ],\n",
       "       [0.04879707, 0.15495335, 0.79624958],\n",
       "       [0.29114708, 0.23164958, 0.47720334],\n",
       "       [0.16954852, 0.33055188, 0.49989961],\n",
       "       [0.09807434, 0.04739543, 0.85453023],\n",
       "       [0.05129879, 0.15287305, 0.79582815],\n",
       "       [0.27376112, 0.07591971, 0.65031917],\n",
       "       [0.16814335, 0.15782979, 0.67402687],\n",
       "       [0.53854834, 0.33268973, 0.12876192],\n",
       "       [0.05122027, 0.14327581, 0.80550392],\n",
       "       [0.13334063, 0.63842506, 0.22823431],\n",
       "       [0.05674145, 0.84904149, 0.09421705],\n",
       "       [0.13338944, 0.17341013, 0.69320043],\n",
       "       [0.13473734, 0.20734375, 0.65791891],\n",
       "       [0.05778436, 0.07950162, 0.86271402],\n",
       "       [0.86059185, 0.04803534, 0.09137281],\n",
       "       [0.97860149, 0.01383395, 0.00756456],\n",
       "       [0.49344986, 0.45366116, 0.05288897],\n",
       "       [0.58953899, 0.16234042, 0.24812058],\n",
       "       [0.37353794, 0.39990874, 0.22655332],\n",
       "       [0.07767054, 0.15378224, 0.76854722],\n",
       "       [0.11150522, 0.79434692, 0.09414785],\n",
       "       [0.13957243, 0.0645124 , 0.79591517],\n",
       "       [0.31289857, 0.12230586, 0.56479557],\n",
       "       [0.13358481, 0.83831935, 0.02809584],\n",
       "       [0.14323427, 0.22137331, 0.63539241],\n",
       "       [0.6677216 , 0.24765469, 0.08462371],\n",
       "       [0.20780459, 0.31659435, 0.47560106],\n",
       "       [0.07323508, 0.2844476 , 0.64231732],\n",
       "       [0.11172771, 0.10206506, 0.78620723],\n",
       "       [0.24618104, 0.35182052, 0.40199844],\n",
       "       [0.02223256, 0.14657802, 0.83118942],\n",
       "       [0.1625126 , 0.27338868, 0.56409871],\n",
       "       [0.50866284, 0.05380686, 0.4375303 ],\n",
       "       [0.82592245, 0.14271201, 0.03136553],\n",
       "       [0.12447607, 0.42103066, 0.45449327],\n",
       "       [0.09841504, 0.19464953, 0.70693544],\n",
       "       [0.30046198, 0.17341649, 0.52612152],\n",
       "       [0.46147788, 0.26579912, 0.272723  ],\n",
       "       [0.08725744, 0.62794203, 0.28480052],\n",
       "       [0.23194717, 0.53632026, 0.23173257],\n",
       "       [0.16004584, 0.31859475, 0.52135941],\n",
       "       [0.1464319 , 0.09243036, 0.76113774],\n",
       "       [0.35541027, 0.43898428, 0.20560545],\n",
       "       [0.0353032 , 0.84216275, 0.12253405],\n",
       "       [0.10278497, 0.5299923 , 0.36722272],\n",
       "       [0.26723057, 0.45249486, 0.28027457],\n",
       "       [0.42527356, 0.27930202, 0.29542443],\n",
       "       [0.5783432 , 0.03770095, 0.38395585],\n",
       "       [0.01555504, 0.55646648, 0.42797848],\n",
       "       [0.12402609, 0.51402626, 0.36194765],\n",
       "       [0.38880224, 0.55161493, 0.05958283],\n",
       "       [0.30313737, 0.10366092, 0.59320171],\n",
       "       [0.33647083, 0.60195379, 0.06157538],\n",
       "       [0.00897855, 0.12210622, 0.86891523],\n",
       "       [0.22194686, 0.24195616, 0.53609698],\n",
       "       [0.22637981, 0.12246682, 0.65115337],\n",
       "       [0.90361372, 0.07190692, 0.02447936],\n",
       "       [0.00690991, 0.66121681, 0.33187328],\n",
       "       [0.28281775, 0.57308698, 0.14409527],\n",
       "       [0.1045031 , 0.11268518, 0.78281173],\n",
       "       [0.8030391 , 0.08185219, 0.11510871],\n",
       "       [0.80799786, 0.13461058, 0.05739156],\n",
       "       [0.16752857, 0.07659058, 0.75588085],\n",
       "       [0.36792823, 0.01876242, 0.61330935],\n",
       "       [0.33354458, 0.47758559, 0.18886983],\n",
       "       [0.25788346, 0.40474256, 0.33737398],\n",
       "       [0.02175015, 0.94797792, 0.03027193],\n",
       "       [0.21677598, 0.68629698, 0.09692704],\n",
       "       [0.03342428, 0.18482132, 0.7817544 ],\n",
       "       [0.01207778, 0.1600025 , 0.82791972],\n",
       "       [0.49079894, 0.34075957, 0.16844149],\n",
       "       [0.11693591, 0.60367995, 0.27938415],\n",
       "       [0.51339988, 0.33209431, 0.15450581],\n",
       "       [0.42085313, 0.37469761, 0.20444927],\n",
       "       [0.65302706, 0.04294397, 0.30402898],\n",
       "       [0.82684302, 0.12308253, 0.05007446],\n",
       "       [0.3925296 , 0.37504159, 0.23242881],\n",
       "       [0.61477038, 0.04685247, 0.33837714],\n",
       "       [0.35658021, 0.52389311, 0.11952668],\n",
       "       [0.28451263, 0.2547749 , 0.46071246],\n",
       "       [0.43498764, 0.43985187, 0.12516049],\n",
       "       [0.12584297, 0.09561241, 0.77854462],\n",
       "       [0.80155383, 0.04296889, 0.15547728],\n",
       "       [0.09315128, 0.85776761, 0.04908111],\n",
       "       [0.32431065, 0.22200771, 0.45368164],\n",
       "       [0.39685427, 0.22909077, 0.37405496],\n",
       "       [0.1615195 , 0.58051359, 0.2579669 ],\n",
       "       [0.7814752 , 0.16039136, 0.05813344],\n",
       "       [0.23387397, 0.08257868, 0.68354734],\n",
       "       [0.84092034, 0.09540698, 0.06367267],\n",
       "       [0.08929543, 0.25701464, 0.65368993],\n",
       "       [0.82728811, 0.10673902, 0.06597286],\n",
       "       [0.40016317, 0.14724025, 0.45259658],\n",
       "       [0.63581442, 0.07741928, 0.2867663 ],\n",
       "       [0.41052177, 0.1300608 , 0.45941743],\n",
       "       [0.08577219, 0.31870201, 0.59552581],\n",
       "       [0.06582613, 0.33450409, 0.59966978],\n",
       "       [0.4210562 , 0.07217811, 0.50676568],\n",
       "       [0.11002942, 0.84489821, 0.04507237],\n",
       "       [0.055495  , 0.76524108, 0.17926393],\n",
       "       [0.24794526, 0.29768006, 0.45437468],\n",
       "       [0.55107044, 0.34078524, 0.10814432],\n",
       "       [0.56119528, 0.3099712 , 0.12883352],\n",
       "       [0.22994572, 0.4517863 , 0.31826798],\n",
       "       [0.44573873, 0.17759819, 0.37666308],\n",
       "       [0.18676445, 0.14306661, 0.67016894],\n",
       "       [0.15124435, 0.53742332, 0.31133234],\n",
       "       [0.01639913, 0.28268266, 0.70091821],\n",
       "       [0.19865419, 0.44902209, 0.35232372],\n",
       "       [0.35608266, 0.07222195, 0.57169539],\n",
       "       [0.22362592, 0.2380925 , 0.53828158],\n",
       "       [0.33791826, 0.17781276, 0.48426898],\n",
       "       [0.52557675, 0.09478058, 0.37964267],\n",
       "       [0.12633246, 0.28526403, 0.58840351],\n",
       "       [0.26694234, 0.49750219, 0.23555547],\n",
       "       [0.07098761, 0.01526564, 0.91374674],\n",
       "       [0.08782353, 0.85322912, 0.05894735],\n",
       "       [0.04782379, 0.23583304, 0.71634317],\n",
       "       [0.45216056, 0.4217783 , 0.12606113],\n",
       "       [0.47375511, 0.33604423, 0.19020067],\n",
       "       [0.11541842, 0.71429749, 0.17028409],\n",
       "       [0.16004877, 0.36508955, 0.47486167],\n",
       "       [0.30569297, 0.032368  , 0.66193903],\n",
       "       [0.13598622, 0.16737849, 0.69663529],\n",
       "       [0.05500612, 0.04711648, 0.8978774 ],\n",
       "       [0.19718562, 0.36264591, 0.44016847],\n",
       "       [0.40769263, 0.53614396, 0.05616341],\n",
       "       [0.19315244, 0.78594561, 0.02090195],\n",
       "       [0.00974959, 0.82674699, 0.16350342],\n",
       "       [0.35627678, 0.33175345, 0.31196978],\n",
       "       [0.08213974, 0.24963661, 0.66822365],\n",
       "       [0.14368776, 0.17748631, 0.67882593],\n",
       "       [0.64144202, 0.2308535 , 0.12770448],\n",
       "       [0.14451681, 0.30002648, 0.55545672],\n",
       "       [0.52227976, 0.37405541, 0.10366483]])"
      ]
     },
     "execution_count": 278,
     "metadata": {},
     "output_type": "execute_result"
    }
   ],
   "source": [
    "predictions"
   ]
  },
  {
   "cell_type": "markdown",
   "id": "01a3caa8",
   "metadata": {},
   "source": [
    "**d)** Compute the accuracy of your model using the accuracy function defined above. Recreate your model a couple times and see how the accuracy changes.\n"
   ]
  },
  {
   "cell_type": "code",
   "execution_count": 279,
   "id": "a2612b82",
   "metadata": {},
   "outputs": [
    {
     "name": "stdout",
     "output_type": "stream",
     "text": [
      "0.36\n"
     ]
    }
   ],
   "source": [
    "print(accuracy(predictions, targets))"
   ]
  },
  {
   "cell_type": "code",
   "execution_count": 281,
   "id": "e2650c26",
   "metadata": {},
   "outputs": [
    {
     "name": "stdout",
     "output_type": "stream",
     "text": [
      "(4, 4)\n",
      "(4, 150)\n",
      "(4, 150)\n",
      "(8, 4)\n",
      "(4, 150)\n",
      "(8, 150)\n",
      "(8, 8)\n",
      "(8, 150)\n",
      "(8, 150)\n",
      "(3, 8)\n",
      "(8, 150)\n",
      "(3, 150)\n",
      "0.34\n"
     ]
    }
   ],
   "source": [
    "inputs = iris.data\n",
    "inputs = inputs.T\n",
    "np.random.seed(2025)\n",
    "network_input_shape = np.shape(inputs) # input from above, shape is (input vectors, features)\n",
    "layer_output_sizes = [4, 8, 8, 3]\n",
    "activation_funcs = [sigmoid, sigmoid, sigmoid, softmax]\n",
    "layers = create_layers_batch_alternative(network_input_shape, layer_output_sizes)\n",
    "\n",
    "predictions_alternativ = feed_forward_batch_alternative(inputs, layers, activation_funcs)\n",
    "print(accuracy(predictions_alternativ.T, targets))"
   ]
  },
  {
   "cell_type": "markdown",
   "id": "334560b6",
   "metadata": {},
   "source": [
    "# Exercise 7 - Training on real data (Optional)\n",
    "\n",
    "To be able to actually do anything useful with your neural network, you need to train it. For this, we need a cost function and a way to take the gradient of the cost function wrt. the network parameters. The following exercises guide you through taking the gradient using autograd, and updating the network parameters using the gradient. Feel free to implement gradient methods like ADAM if you finish everything.\n"
   ]
  },
  {
   "cell_type": "markdown",
   "id": "700cabe4",
   "metadata": {},
   "source": [
    "Since we are doing a classification task with multiple output classes, we use the cross-entropy loss function, which can evaluate performance on classification tasks. It sees if your prediction is \"most certain\" on the correct target.\n"
   ]
  },
  {
   "cell_type": "code",
   "execution_count": 246,
   "id": "f30e6e2c",
   "metadata": {},
   "outputs": [],
   "source": [
    "def cross_entropy(predict, target):\n",
    "    return np.sum(-target * np.log(predict))\n",
    "\n",
    "\n",
    "def cost(input, layers, activation_funcs, target):\n",
    "    predict = feed_forward_batch(input, layers, activation_funcs)\n",
    "    return cross_entropy(predict, target)"
   ]
  },
  {
   "cell_type": "markdown",
   "id": "7ea9c1a4",
   "metadata": {},
   "source": [
    "To improve our network on whatever prediction task we have given it, we need to use a sensible cost function, take the gradient of that cost function with respect to our network parameters, the weights and biases, and then update the weights and biases using these gradients. To clarify, we need to find and use these\n",
    "\n",
    "$$\n",
    "\\frac{\\partial C}{\\partial W}, \\frac{\\partial C}{\\partial b}\n",
    "$$\n"
   ]
  },
  {
   "cell_type": "markdown",
   "id": "6c753e3b",
   "metadata": {},
   "source": [
    "Now we need to compute these gradients. This is pretty hard to do for a neural network, we will use most of next week to do this, but we can also use autograd to just do it for us, which is what we always do in practice. With the code cell below, we create a function which takes all of these gradients for us.\n"
   ]
  },
  {
   "cell_type": "code",
   "execution_count": 247,
   "id": "56bef776",
   "metadata": {},
   "outputs": [],
   "source": [
    "from autograd import grad\n",
    "\n",
    "\n",
    "gradient_func = grad(\n",
    "    cost, 1\n",
    ")  # Taking the gradient wrt. the second input to the cost function, i.e. the layers"
   ]
  },
  {
   "cell_type": "markdown",
   "id": "7b1b74bc",
   "metadata": {},
   "source": [
    "**a)** What shape should the gradient of the cost function wrt. weights and biases be?\n",
    "\n",
    "**b)** Use the `gradient_func` function to take the gradient of the cross entropy wrt. the weights and biases of the network. Check the shapes of what's inside. What does the `grad` func from autograd actually do?\n"
   ]
  },
  {
   "cell_type": "code",
   "execution_count": null,
   "id": "841c9e87",
   "metadata": {},
   "outputs": [],
   "source": [
    "layers_grad = gradient_func(\n",
    "    inputs, layers, activation_funcs, targets\n",
    ")  # Don't change this"
   ]
  },
  {
   "cell_type": "markdown",
   "id": "adc9e9be",
   "metadata": {},
   "source": [
    "**c)** Finish the `train_network` function.\n"
   ]
  },
  {
   "cell_type": "code",
   "execution_count": 251,
   "id": "6e4d38d3",
   "metadata": {},
   "outputs": [],
   "source": [
    "def train_network(\n",
    "    inputs, layers, activation_funcs, targets, learning_rate=0.001, epochs=100\n",
    "):\n",
    "    for i in range(epochs):\n",
    "        layers_grad = gradient_func(inputs, layers, activation_funcs, targets)\n",
    "        for (W, b), (W_g, b_g) in zip(layers, layers_grad):\n",
    "            W -= ...\n",
    "            b -= ..."
   ]
  },
  {
   "cell_type": "markdown",
   "id": "2f65d663",
   "metadata": {},
   "source": [
    "**e)** What do we call the gradient method used above?\n"
   ]
  },
  {
   "cell_type": "markdown",
   "id": "7059dd8c",
   "metadata": {},
   "source": [
    "**d)** Train your network and see how the accuracy changes! Make a plot if you want.\n"
   ]
  },
  {
   "cell_type": "code",
   "execution_count": null,
   "id": "5027c7a5",
   "metadata": {},
   "outputs": [],
   "source": [
    "..."
   ]
  },
  {
   "cell_type": "markdown",
   "id": "3bc77016",
   "metadata": {},
   "source": [
    "**e)** How high of an accuracy is it possible to acheive with a neural network on this dataset, if we use the whole thing as training data?\n"
   ]
  }
 ],
 "metadata": {
  "kernelspec": {
   "display_name": "base",
   "language": "python",
   "name": "python3"
  },
  "language_info": {
   "codemirror_mode": {
    "name": "ipython",
    "version": 3
   },
   "file_extension": ".py",
   "mimetype": "text/x-python",
   "name": "python",
   "nbconvert_exporter": "python",
   "pygments_lexer": "ipython3",
   "version": "3.13.5"
  }
 },
 "nbformat": 4,
 "nbformat_minor": 5
}
